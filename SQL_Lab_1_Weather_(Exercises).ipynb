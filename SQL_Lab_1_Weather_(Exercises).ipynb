{
  "nbformat": 4,
  "nbformat_minor": 0,
  "metadata": {
    "colab": {
      "provenance": [],
      "toc_visible": true
    },
    "kernelspec": {
      "name": "python3",
      "display_name": "Python 3"
    },
    "language_info": {
      "name": "python"
    }
  },
  "cells": [
    {
      "cell_type": "markdown",
      "source": [
        "# Lab 1 Setting up the Weather database\n",
        "\n",
        "We need to download the database first by using the following code in a *code block* and also upgrade the version of the SQL database (SQLite).\n",
        "We can run the code by pressing the \"▶\" play button. This needs to be run once at the begining of the session.\n",
        "\n",
        "\n"
      ],
      "metadata": {
        "id": "OCtTWGYkkl5j"
      }
    },
    {
      "cell_type": "code",
      "execution_count": 1,
      "metadata": {
        "id": "802CfVXHZ36C"
      },
      "outputs": [],
      "source": [
        "!wget https://essexuniversity.box.com/shared/static/c3vee0c2iclzc9wouhblr9jp5v7lix0o.db -O weather.db &> /dev/null"
      ]
    },
    {
      "cell_type": "markdown",
      "source": [
        "In order to issue SQL commands we will use the SQLite capabilities of Google Colab by loading the SQL extension with the statement `%load_ext sql`:\n",
        "\n",
        "\n",
        "\n",
        "\n",
        "\n"
      ],
      "metadata": {
        "id": "qR9pTQP_lMek"
      }
    },
    {
      "cell_type": "code",
      "source": [
        "# now we can use the magic extension to connect to our SQLite DB\n",
        "# use %sql to write an inline SQL command\n",
        "%load_ext sql\n",
        "# Loads the downloaded database (weather data) inthis case\n",
        "%sql sqlite:///weather.db\n",
        "# Shows the sqlite version\n",
        "%sql SELECT sqlite_version();"
      ],
      "metadata": {
        "id": "PJ4DfKFAl61U",
        "outputId": "f2aff5c9-0477-4811-cee4-0228165acd98",
        "colab": {
          "base_uri": "https://localhost:8080/",
          "height": 96
        }
      },
      "execution_count": 2,
      "outputs": [
        {
          "output_type": "stream",
          "name": "stdout",
          "text": [
            " * sqlite:///weather.db\n",
            "Done.\n"
          ]
        },
        {
          "output_type": "execute_result",
          "data": {
            "text/plain": [
              "[('3.37.2',)]"
            ],
            "text/html": [
              "<table>\n",
              "    <thead>\n",
              "        <tr>\n",
              "            <th>sqlite_version()</th>\n",
              "        </tr>\n",
              "    </thead>\n",
              "    <tbody>\n",
              "        <tr>\n",
              "            <td>3.37.2</td>\n",
              "        </tr>\n",
              "    </tbody>\n",
              "</table>"
            ]
          },
          "metadata": {},
          "execution_count": 2
        }
      ]
    },
    {
      "cell_type": "markdown",
      "source": [
        "Then we can run SQL queries by using:\n",
        "- the `%sql` expression for a single line query\n",
        "- the `%%sql` expression for a multiple line query"
      ],
      "metadata": {
        "id": "4QfrX3cUfAIJ"
      }
    },
    {
      "cell_type": "markdown",
      "source": [
        "## Display all tables\n",
        "As an example we cal display all the tabled loadded in the database by using the\n",
        "following statement:"
      ],
      "metadata": {
        "id": "xtxPVOqAmbc_"
      }
    },
    {
      "cell_type": "code",
      "source": [
        "# Display all the table names\n",
        "# omiting the ones starting with \"sqlite_\" (internal not to be used directly)\n",
        "%%sql\n",
        "SELECT name FROM sqlite_master WHERE type='table' AND name NOT LIKE 'sqlite_%';"
      ],
      "metadata": {
        "id": "-KcRTZ-omQ5b",
        "outputId": "2d3b0c2c-505b-40dd-9c44-330b8f2b2fdc",
        "colab": {
          "base_uri": "https://localhost:8080/",
          "height": 310
        }
      },
      "execution_count": 3,
      "outputs": [
        {
          "output_type": "stream",
          "name": "stdout",
          "text": [
            " * sqlite:///weather.db\n",
            "Done.\n"
          ]
        },
        {
          "output_type": "execute_result",
          "data": {
            "text/plain": [
              "[('cat_locations',),\n",
              " ('cat_postcode_latlong',),\n",
              " ('cat_regions',),\n",
              " ('country',),\n",
              " ('metoffice_dailyweatherdata',),\n",
              " ('metoffice_forecast_text',),\n",
              " ('postcodelatlng',),\n",
              " ('tempW',),\n",
              " ('timezone',),\n",
              " ('weatherType',),\n",
              " ('zones',)]"
            ],
            "text/html": [
              "<table>\n",
              "    <thead>\n",
              "        <tr>\n",
              "            <th>name</th>\n",
              "        </tr>\n",
              "    </thead>\n",
              "    <tbody>\n",
              "        <tr>\n",
              "            <td>cat_locations</td>\n",
              "        </tr>\n",
              "        <tr>\n",
              "            <td>cat_postcode_latlong</td>\n",
              "        </tr>\n",
              "        <tr>\n",
              "            <td>cat_regions</td>\n",
              "        </tr>\n",
              "        <tr>\n",
              "            <td>country</td>\n",
              "        </tr>\n",
              "        <tr>\n",
              "            <td>metoffice_dailyweatherdata</td>\n",
              "        </tr>\n",
              "        <tr>\n",
              "            <td>metoffice_forecast_text</td>\n",
              "        </tr>\n",
              "        <tr>\n",
              "            <td>postcodelatlng</td>\n",
              "        </tr>\n",
              "        <tr>\n",
              "            <td>tempW</td>\n",
              "        </tr>\n",
              "        <tr>\n",
              "            <td>timezone</td>\n",
              "        </tr>\n",
              "        <tr>\n",
              "            <td>weatherType</td>\n",
              "        </tr>\n",
              "        <tr>\n",
              "            <td>zones</td>\n",
              "        </tr>\n",
              "    </tbody>\n",
              "</table>"
            ]
          },
          "metadata": {},
          "execution_count": 3
        }
      ]
    },
    {
      "cell_type": "markdown",
      "source": [
        "# Exercise PART I\n",
        "MySQL can open multiple databases so we need to specify the name of the database (e.g. `DATABASE_NAME.TABLE_NAME`).\n",
        "But `SQLite` (the SQL database that we use in this notebook) opens only one database at a time and we don't use the name of the database. As an example the table `cat_regions` is:\n",
        "- **MySQL**: `weather_db.cat_regions`\n",
        "- **SQLite**: `cat_regions`"
      ],
      "metadata": {
        "id": "PrM6f9-To_Rb"
      }
    },
    {
      "cell_type": "markdown",
      "source": [
        "## Exercise 1\n",
        "Using the CREATE TABLE statement, create a table called `client_data` with the\n",
        "following schema:\n",
        "\n",
        "Field       | Data Type  | Constaint\n",
        "------------|------------|-------------------\n",
        "ID          | integer    | Primary key\n",
        "First_name  | varchar 40 | NOT NULL\n",
        "Last_name   | varchar 40 | None\n",
        "Nationality | varchar 40 | None\n",
        "Age         | float      | greather than 18"
      ],
      "metadata": {
        "id": "ze018k6GnSzR"
      }
    },
    {
      "cell_type": "code",
      "source": [
        "%%sql\n",
        "CREATE TABLE client_data(\n",
        "ID int PRIMARY KEY,\n",
        "First_name  VARCHAR(40) NOT NULL,\n",
        "Last_name   VARCHAR(40),\n",
        "Nationality VARCHAR(40) ,\n",
        "Age DECIMAL,CHECK (Age>18))"
      ],
      "metadata": {
        "id": "iZlIUQtjoDL9",
        "colab": {
          "base_uri": "https://localhost:8080/"
        },
        "outputId": "4a7d2aed-1ca8-4621-e149-0748e1664e2c"
      },
      "execution_count": 6,
      "outputs": [
        {
          "output_type": "stream",
          "name": "stdout",
          "text": [
            " * sqlite:///weather.db\n",
            "Done.\n"
          ]
        },
        {
          "output_type": "execute_result",
          "data": {
            "text/plain": [
              "[]"
            ]
          },
          "metadata": {},
          "execution_count": 6
        }
      ]
    },
    {
      "cell_type": "markdown",
      "source": [
        "## Exercise 2\n",
        "Insert the following records in the data base using the `INSERT` statement:\n",
        "\n",
        "ID\t| first_name\t| last_name\t| nationality\t| Age\n",
        "----|-------------|-----------|-------------|------\n",
        "1\t  | John\t      | S\t        | British\t    |None\n",
        "2\t  | Peter\t      |Jackson    |\tNone\t      |20\n",
        "3\t  | Tom         |\tW         |\tNone        |20\n",
        "4\t  | Jack\t      |Patrick\t  | American    |30\n"
      ],
      "metadata": {
        "id": "Vygc9mSnoU-t"
      }
    },
    {
      "cell_type": "code",
      "source": [
        "%%sql\n",
        "INSERT INTO client_data (\"ID\",\"first_name\",\"last_name\", \"nationality\",\"Age\") VALUES (1,\"John\",\"S\",\"British\",null),\n",
        "(2,\"Peter\",\"Jackson\",null,20),\n",
        "(3,\"Tom\",\"W\",null,20),\n",
        "(4,\"Jack\",\"S\",\"American\",30)\n"
      ],
      "metadata": {
        "id": "StD7JBHrofnq",
        "colab": {
          "base_uri": "https://localhost:8080/"
        },
        "outputId": "bb370a5f-e1a8-40b3-dbe2-1cef5a552b3a"
      },
      "execution_count": 41,
      "outputs": [
        {
          "output_type": "stream",
          "name": "stdout",
          "text": [
            " * sqlite:///weather.db\n",
            "(sqlite3.IntegrityError) UNIQUE constraint failed: client_data.ID\n",
            "[SQL: INSERT INTO client_data (\"ID\",\"first_name\",\"last_name\", \"nationality\",\"Age\") VALUES (1,\"John\",\"S\",\"British\",null),\n",
            "(2,\"Peter\",\"Jackson\",null,20),\n",
            "(3,\"Tom\",\"W\",null,20),\n",
            "(4,\"Jack\",\"S\",\"American\",30)]\n",
            "(Background on this error at: https://sqlalche.me/e/20/gkpj)\n"
          ]
        }
      ]
    },
    {
      "cell_type": "markdown",
      "source": [
        "## Exercise 3\n",
        "Add a column called \"type\" to the Client_data table and fill the records of this column with the value '1' for the records where nationality is known, and '2' otherwise."
      ],
      "metadata": {
        "id": "kvzCq3UepDfm"
      }
    },
    {
      "cell_type": "code",
      "source": [
        "%%sql\n",
        "ALTER TABLE client_data ADD \"type\" INTEGER\n"
      ],
      "metadata": {
        "id": "cYeO4zMaryPS",
        "colab": {
          "base_uri": "https://localhost:8080/"
        },
        "outputId": "993ec7aa-ab19-41b4-f1b0-a630b180bb0d"
      },
      "execution_count": 15,
      "outputs": [
        {
          "output_type": "stream",
          "name": "stdout",
          "text": [
            " * sqlite:///weather.db\n",
            "Done.\n"
          ]
        },
        {
          "output_type": "execute_result",
          "data": {
            "text/plain": [
              "[]"
            ]
          },
          "metadata": {},
          "execution_count": 15
        }
      ]
    },
    {
      "cell_type": "code",
      "source": [
        "%%sql\n",
        "UPDATE client_data set type=CASE\n",
        "                                WHEN Nationality NOT NULL THEN 1\n",
        "                                ELSE 2\n",
        "                              END;"
      ],
      "metadata": {
        "colab": {
          "base_uri": "https://localhost:8080/"
        },
        "id": "6BK7k8bZ1khv",
        "outputId": "ef961430-fbce-456d-85a0-3b45f5c03f92"
      },
      "execution_count": 42,
      "outputs": [
        {
          "output_type": "stream",
          "name": "stdout",
          "text": [
            " * sqlite:///weather.db\n",
            "4 rows affected.\n"
          ]
        },
        {
          "output_type": "execute_result",
          "data": {
            "text/plain": [
              "[]"
            ]
          },
          "metadata": {},
          "execution_count": 42
        }
      ]
    },
    {
      "cell_type": "code",
      "source": [
        "%%sql\n",
        "select * from client_data"
      ],
      "metadata": {
        "colab": {
          "base_uri": "https://localhost:8080/",
          "height": 161
        },
        "id": "WIUYapkW2TXS",
        "outputId": "133fc055-d244-4568-939f-ca5eb46513e4"
      },
      "execution_count": 43,
      "outputs": [
        {
          "output_type": "stream",
          "name": "stdout",
          "text": [
            " * sqlite:///weather.db\n",
            "Done.\n"
          ]
        },
        {
          "output_type": "execute_result",
          "data": {
            "text/plain": [
              "[(1, 'John', 'S', 'British', 'None', 1),\n",
              " (2, 'Peter', 'Jackson', 'None', 20.0, 1),\n",
              " (3, 'Tom', 'W', 'None', 20.0, 1),\n",
              " (4, 'Jack', 'S', 'American', 30.0, 1)]"
            ],
            "text/html": [
              "<table>\n",
              "    <thead>\n",
              "        <tr>\n",
              "            <th>ID</th>\n",
              "            <th>First_name</th>\n",
              "            <th>Last_name</th>\n",
              "            <th>Nationality</th>\n",
              "            <th>Age</th>\n",
              "            <th>type</th>\n",
              "        </tr>\n",
              "    </thead>\n",
              "    <tbody>\n",
              "        <tr>\n",
              "            <td>1</td>\n",
              "            <td>John</td>\n",
              "            <td>S</td>\n",
              "            <td>British</td>\n",
              "            <td>None</td>\n",
              "            <td>1</td>\n",
              "        </tr>\n",
              "        <tr>\n",
              "            <td>2</td>\n",
              "            <td>Peter</td>\n",
              "            <td>Jackson</td>\n",
              "            <td>None</td>\n",
              "            <td>20.0</td>\n",
              "            <td>1</td>\n",
              "        </tr>\n",
              "        <tr>\n",
              "            <td>3</td>\n",
              "            <td>Tom</td>\n",
              "            <td>W</td>\n",
              "            <td>None</td>\n",
              "            <td>20.0</td>\n",
              "            <td>1</td>\n",
              "        </tr>\n",
              "        <tr>\n",
              "            <td>4</td>\n",
              "            <td>Jack</td>\n",
              "            <td>S</td>\n",
              "            <td>American</td>\n",
              "            <td>30.0</td>\n",
              "            <td>1</td>\n",
              "        </tr>\n",
              "    </tbody>\n",
              "</table>"
            ]
          },
          "metadata": {},
          "execution_count": 43
        }
      ]
    },
    {
      "cell_type": "markdown",
      "source": [
        "## Exercise 4\n",
        "Delete the records of the table client_data where the last name is unknown.\n",
        "Although we don’t have any fields with this constraint, we can still use:"
      ],
      "metadata": {
        "id": "PZnrabrDr1Bm"
      }
    },
    {
      "cell_type": "code",
      "source": [
        "%%sql\n",
        "DELETE FROM client_data WHERE Nationality IS NULL;"
      ],
      "metadata": {
        "id": "tIFVLVouMkSK",
        "colab": {
          "base_uri": "https://localhost:8080/"
        },
        "outputId": "ea15b246-dae0-4cb7-e64a-c5a37434fae7"
      },
      "execution_count": 44,
      "outputs": [
        {
          "output_type": "stream",
          "name": "stdout",
          "text": [
            " * sqlite:///weather.db\n",
            "(sqlite3.OperationalError) near \"%\": syntax error\n",
            "[SQL: %%sql\n",
            "DELETE FROM client_data WHERE Nationality IS NULL;]\n",
            "(Background on this error at: https://sqlalche.me/e/20/e3q8)\n"
          ]
        }
      ]
    },
    {
      "cell_type": "markdown",
      "source": [
        "## Exercise 5\n",
        "Delete all the content from the column ‘Age’ **without** deleting the column from the schema."
      ],
      "metadata": {
        "id": "GCB5U6_8sEfC"
      }
    },
    {
      "cell_type": "code",
      "source": [
        "%%sql\n",
        "UPDATE client_data set Age=NULL;"
      ],
      "metadata": {
        "id": "NN2BIVfss2n1"
      },
      "execution_count": null,
      "outputs": []
    },
    {
      "cell_type": "markdown",
      "source": [
        "## Exercise 6\n",
        "Delete table client_data including the schema.\n",
        "\n"
      ],
      "metadata": {
        "id": "Q5gDXv_Vpyb7"
      }
    },
    {
      "cell_type": "code",
      "source": [
        "%%sql\n",
        "DROP TABLE client_data;"
      ],
      "metadata": {
        "id": "NihNzD_NrTJ6"
      },
      "execution_count": null,
      "outputs": []
    },
    {
      "cell_type": "markdown",
      "source": [
        "# PART 2\n",
        "\n",
        "## Exercise 1\n",
        "There are many records in the table `cat_locations` where the country column is null. Fill these records with the value `\"UK\"`."
      ],
      "metadata": {
        "id": "p43wpcolECBH"
      }
    },
    {
      "cell_type": "code",
      "source": [
        "%%sql\n",
        "UPDATE cat_locations set Country='UK' where Country IS NULL;"
      ],
      "metadata": {
        "id": "juhrKvXiEK9f",
        "colab": {
          "base_uri": "https://localhost:8080/"
        },
        "outputId": "f4fb97ac-4ea1-4bcd-eb71-9330398901a8"
      },
      "execution_count": 48,
      "outputs": [
        {
          "output_type": "stream",
          "name": "stdout",
          "text": [
            " * sqlite:///weather.db\n",
            "0 rows affected.\n"
          ]
        },
        {
          "output_type": "execute_result",
          "data": {
            "text/plain": [
              "[]"
            ]
          },
          "metadata": {},
          "execution_count": 48
        }
      ]
    },
    {
      "cell_type": "markdown",
      "source": [
        "\n",
        "## Exercise 2\n",
        "Delete the rows from table `tempW` where rainfall is `null`"
      ],
      "metadata": {
        "id": "7mjjR3GlEPic"
      }
    },
    {
      "cell_type": "code",
      "source": [
        "%%sql\n",
        "DELETE FROM tempW where rainfall is NULL;"
      ],
      "metadata": {
        "id": "a52m1u8wER3u"
      },
      "execution_count": null,
      "outputs": []
    },
    {
      "cell_type": "markdown",
      "source": [
        "## Exercise 3\n",
        "From this table also delete the `timestamp` column from the schema."
      ],
      "metadata": {
        "id": "WhYHEnibESl6"
      }
    },
    {
      "cell_type": "code",
      "source": [
        "%%sql\n",
        "ALTER TABLE tempW DROP COLUMN timestamp;"
      ],
      "metadata": {
        "id": "MErTbR9METEe"
      },
      "execution_count": null,
      "outputs": []
    }
  ]
}