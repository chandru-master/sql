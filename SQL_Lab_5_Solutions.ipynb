{
  "nbformat": 4,
  "nbformat_minor": 0,
  "metadata": {
    "colab": {
      "provenance": [],
      "toc_visible": true
    },
    "kernelspec": {
      "name": "python3",
      "display_name": "Python 3"
    },
    "language_info": {
      "name": "python"
    }
  },
  "cells": [
    {
      "cell_type": "markdown",
      "source": [
        "# Setting up the Weather database\n",
        "\n",
        "We need to download the database first by using the following code in a *code block* and also upgrade the version of the SQL database (SQLite).\n",
        "We can run the code by pressing the \"▶\" play button. This needs to be run once at the begining of the session.\n",
        "\n",
        "\n"
      ],
      "metadata": {
        "id": "OCtTWGYkkl5j"
      }
    },
    {
      "cell_type": "code",
      "execution_count": null,
      "metadata": {
        "id": "802CfVXHZ36C"
      },
      "outputs": [],
      "source": [
        "!wget https://essexuniversity.box.com/shared/static/c3vee0c2iclzc9wouhblr9jp5v7lix0o.db -O weather.db &> /dev/null"
      ]
    },
    {
      "cell_type": "markdown",
      "source": [
        "In order to issue SQL commands we will use the SQLite capabilities of Google Colab by loading the SQL extension with the statement `%load_ext sql`:\n",
        "\n",
        "\n",
        "\n",
        "\n",
        "\n"
      ],
      "metadata": {
        "id": "qR9pTQP_lMek"
      }
    },
    {
      "cell_type": "code",
      "source": [
        "# now we can use the magic extension to connect to our SQLite DB\n",
        "# use %sql to write an inline SQL command\n",
        "%load_ext sql\n",
        "# Loads the downloaded database (weather data) inthis case\n",
        "%sql sqlite:///weather.db\n",
        "# Shows the sqlite version\n",
        "%sql SELECT sqlite_version();"
      ],
      "metadata": {
        "id": "PJ4DfKFAl61U",
        "colab": {
          "base_uri": "https://localhost:8080/",
          "height": 97
        },
        "outputId": "3217220d-4059-4cca-ecf4-5bc5dca1cba2"
      },
      "execution_count": null,
      "outputs": [
        {
          "output_type": "stream",
          "name": "stdout",
          "text": [
            " * sqlite:///weather.db\n",
            "Done.\n"
          ]
        },
        {
          "output_type": "execute_result",
          "data": {
            "text/plain": [
              "[('3.37.2',)]"
            ],
            "text/html": [
              "<table>\n",
              "    <thead>\n",
              "        <tr>\n",
              "            <th>sqlite_version()</th>\n",
              "        </tr>\n",
              "    </thead>\n",
              "    <tbody>\n",
              "        <tr>\n",
              "            <td>3.37.2</td>\n",
              "        </tr>\n",
              "    </tbody>\n",
              "</table>"
            ]
          },
          "metadata": {},
          "execution_count": 2
        }
      ]
    },
    {
      "cell_type": "markdown",
      "source": [
        "Then we can run SQL queries by using:\n",
        "- the `%sql` expression for a single line query\n",
        "- the `%%sql` expression for a multiple line query"
      ],
      "metadata": {
        "id": "4QfrX3cUfAIJ"
      }
    },
    {
      "cell_type": "markdown",
      "source": [
        "## Display all tables\n",
        "As an example we cal display all the tabled loadded in the database by using the\n",
        "following statement:"
      ],
      "metadata": {
        "id": "xtxPVOqAmbc_"
      }
    },
    {
      "cell_type": "code",
      "source": [
        "# Display all the table names\n",
        "# omiting the ones starting with \"sqlite_\" (internal not to be used directly)\n",
        "%%sql\n",
        "SELECT name FROM sqlite_master WHERE type='table' AND name NOT LIKE 'sqlite_%';"
      ],
      "metadata": {
        "id": "-KcRTZ-omQ5b",
        "colab": {
          "base_uri": "https://localhost:8080/",
          "height": 305
        },
        "outputId": "018a1bbd-1db1-404b-ae6c-97381dda2845"
      },
      "execution_count": null,
      "outputs": [
        {
          "output_type": "stream",
          "name": "stdout",
          "text": [
            " * sqlite:///weather.db\n",
            "Done.\n"
          ]
        },
        {
          "output_type": "execute_result",
          "data": {
            "text/plain": [
              "[('cat_locations',),\n",
              " ('cat_postcode_latlong',),\n",
              " ('cat_regions',),\n",
              " ('country',),\n",
              " ('metoffice_dailyweatherdata',),\n",
              " ('metoffice_forecast_text',),\n",
              " ('postcodelatlng',),\n",
              " ('tempW',),\n",
              " ('timezone',),\n",
              " ('weatherType',),\n",
              " ('zones',)]"
            ],
            "text/html": [
              "<table>\n",
              "    <thead>\n",
              "        <tr>\n",
              "            <th>name</th>\n",
              "        </tr>\n",
              "    </thead>\n",
              "    <tbody>\n",
              "        <tr>\n",
              "            <td>cat_locations</td>\n",
              "        </tr>\n",
              "        <tr>\n",
              "            <td>cat_postcode_latlong</td>\n",
              "        </tr>\n",
              "        <tr>\n",
              "            <td>cat_regions</td>\n",
              "        </tr>\n",
              "        <tr>\n",
              "            <td>country</td>\n",
              "        </tr>\n",
              "        <tr>\n",
              "            <td>metoffice_dailyweatherdata</td>\n",
              "        </tr>\n",
              "        <tr>\n",
              "            <td>metoffice_forecast_text</td>\n",
              "        </tr>\n",
              "        <tr>\n",
              "            <td>postcodelatlng</td>\n",
              "        </tr>\n",
              "        <tr>\n",
              "            <td>tempW</td>\n",
              "        </tr>\n",
              "        <tr>\n",
              "            <td>timezone</td>\n",
              "        </tr>\n",
              "        <tr>\n",
              "            <td>weatherType</td>\n",
              "        </tr>\n",
              "        <tr>\n",
              "            <td>zones</td>\n",
              "        </tr>\n",
              "    </tbody>\n",
              "</table>"
            ]
          },
          "metadata": {},
          "execution_count": 2
        }
      ]
    },
    {
      "cell_type": "markdown",
      "source": [
        "# Information"
      ],
      "metadata": {
        "id": "ONpAhgc0aEUa"
      }
    },
    {
      "cell_type": "markdown",
      "source": [
        "## Arithmetic operators\n",
        "- Add: +\n",
        "- Subtract/minus: -\n",
        "- Multiply: *\n",
        "- Divide: /\n",
        "- Modulo: %\n"
      ],
      "metadata": {
        "id": "PLL5_BqkbQaL"
      }
    },
    {
      "cell_type": "markdown",
      "source": [
        "## Example 1\n",
        "Working on the table “metoffice_dailyweatherdata”, converting the\n",
        "temperature from Celsius to Fahrenheit. The output should contain one column with name “Fahrenheit_temperature”.\n",
        "### Hint\n",
        "- Tables:\n",
        "  + metoffice_dailyweatherdata --- temperature\n",
        "- Information:\n",
        "  + New column \"Fahrenheit_temperature\"\n",
        "- Conditions (filters) in WHERE:\n",
        "  + None\n",
        "- Any groups?\n",
        "  + None"
      ],
      "metadata": {
        "id": "H-FBDIW3SKrj"
      }
    },
    {
      "cell_type": "code",
      "source": [
        "%%sql\n",
        "SELECT temperature * 1.8 + 32 AS Fahrenheit_temperature\n",
        "FROM metoffice_dailyweatherdata LIMIT 10;"
      ],
      "metadata": {
        "colab": {
          "base_uri": "https://localhost:8080/",
          "height": 284
        },
        "id": "mkgwDpjAb6m9",
        "outputId": "333d3488-ff27-482c-c8ec-5a6ea07cf4a5"
      },
      "execution_count": null,
      "outputs": [
        {
          "output_type": "stream",
          "name": "stdout",
          "text": [
            " * sqlite:///weather.db\n",
            "Done.\n"
          ]
        },
        {
          "output_type": "execute_result",
          "data": {
            "text/plain": [
              "[(45.5,),\n",
              " (45.5,),\n",
              " (46.22,),\n",
              " (45.5,),\n",
              " (46.4,),\n",
              " (46.94,),\n",
              " (44.42,),\n",
              " (44.42,),\n",
              " (44.42,),\n",
              " (45.32,)]"
            ],
            "text/html": [
              "<table>\n",
              "    <thead>\n",
              "        <tr>\n",
              "            <th>Fahrenheit_temperature</th>\n",
              "        </tr>\n",
              "    </thead>\n",
              "    <tbody>\n",
              "        <tr>\n",
              "            <td>45.5</td>\n",
              "        </tr>\n",
              "        <tr>\n",
              "            <td>45.5</td>\n",
              "        </tr>\n",
              "        <tr>\n",
              "            <td>46.22</td>\n",
              "        </tr>\n",
              "        <tr>\n",
              "            <td>45.5</td>\n",
              "        </tr>\n",
              "        <tr>\n",
              "            <td>46.4</td>\n",
              "        </tr>\n",
              "        <tr>\n",
              "            <td>46.94</td>\n",
              "        </tr>\n",
              "        <tr>\n",
              "            <td>44.42</td>\n",
              "        </tr>\n",
              "        <tr>\n",
              "            <td>44.42</td>\n",
              "        </tr>\n",
              "        <tr>\n",
              "            <td>44.42</td>\n",
              "        </tr>\n",
              "        <tr>\n",
              "            <td>45.32</td>\n",
              "        </tr>\n",
              "    </tbody>\n",
              "</table>"
            ]
          },
          "metadata": {},
          "execution_count": 4
        }
      ]
    },
    {
      "cell_type": "markdown",
      "source": [
        "## Logical operators\n",
        "- Logical AND: `AND`\n",
        "- Negates value: `NOT`\n",
        "- Logical OR: `OR`\n",
        "- Logical XOR: `XOR`\n",
        "We will use the `OR` operator to filter the data. Syntax:\n",
        "```sql\n",
        "SELECT Field1, Field2\n",
        "FROM Table_name\n",
        "WHERE Condition1 OR Condition2\n",
        "```"
      ],
      "metadata": {
        "id": "B2v51qi4o6jt"
      }
    },
    {
      "cell_type": "markdown",
      "source": [
        "## Example 2\n",
        " Working on the table `metoffice_dailyweatherdata`, Picking out those\n",
        "records with either visibility smaller than 2000 or windspeed larger than 20."
      ],
      "metadata": {
        "id": "LrH0hylvqnJS"
      }
    },
    {
      "cell_type": "code",
      "source": [
        "%%sql\n",
        "SELECT *\n",
        "FROM metoffice_dailyweatherdata\n",
        "WHERE visibility < 2000 OR windspeed > 20 LIMIT 5;"
      ],
      "metadata": {
        "colab": {
          "base_uri": "https://localhost:8080/",
          "height": 373
        },
        "id": "E_PWYTMmqzwP",
        "outputId": "a3fd4878-fc0c-4c00-d2fc-b8592967b2a4"
      },
      "execution_count": null,
      "outputs": [
        {
          "output_type": "stream",
          "name": "stdout",
          "text": [
            " * sqlite:///weather.db\n",
            "Done.\n"
          ]
        },
        {
          "output_type": "execute_result",
          "data": {
            "text/plain": [
              "[(3002, '2020-01-01 00:00:00', '2020-01-01', '00:00:00', 7.5, 21, 84.0, 5.0, 1018, 32, 13000, 'NULL', 'F', '2020-01-01 06:00:03', '0', '0', '0', '8'),\n",
              " (3002, '2020-01-01 01:00:00', '2020-01-01', '01:00:00', 7.5, 22, 81.7, 4.6, 1018, 34, 12000, 'NULL', 'F', '2020-01-01 06:00:03', '0', '0', '0', '8'),\n",
              " (3002, '2020-01-01 02:00:00', '2020-01-01', '02:00:00', 7.9, 24, 79.9, 4.7, 1017, 36, 11000, 'NULL', 'F', '2020-01-01 06:00:03', '0', '0', '0', '8'),\n",
              " (3002, '2020-01-01 03:00:00', '2020-01-01', '03:00:00', 7.5, 23, 82.3, 4.7, 1016, 40, 13000, 'NULL', 'F', '2020-01-01 06:00:03', '0', '0', '0', '8'),\n",
              " (3002, '2020-01-01 05:00:00', '2020-01-01', '05:00:00', 8.3, 24, 85.3, 6.0, 1015, 33, 11000, 'NULL', 'F', '2020-01-01 06:00:03', '0', '0', '0', '8')]"
            ],
            "text/html": [
              "<table>\n",
              "    <thead>\n",
              "        <tr>\n",
              "            <th>LocationId</th>\n",
              "            <th>obs_dateTime</th>\n",
              "            <th>obs_date</th>\n",
              "            <th>obs_time</th>\n",
              "            <th>temperature</th>\n",
              "            <th>windspeed</th>\n",
              "            <th>humidity</th>\n",
              "            <th>dewpoint</th>\n",
              "            <th>pressure</th>\n",
              "            <th>windgust</th>\n",
              "            <th>visibility</th>\n",
              "            <th>winddirection</th>\n",
              "            <th>pressuretendency</th>\n",
              "            <th>timestamp</th>\n",
              "            <th>rainy</th>\n",
              "            <th>windy</th>\n",
              "            <th>snow</th>\n",
              "            <th>weatherType</th>\n",
              "        </tr>\n",
              "    </thead>\n",
              "    <tbody>\n",
              "        <tr>\n",
              "            <td>3002</td>\n",
              "            <td>2020-01-01 00:00:00</td>\n",
              "            <td>2020-01-01</td>\n",
              "            <td>00:00:00</td>\n",
              "            <td>7.5</td>\n",
              "            <td>21</td>\n",
              "            <td>84.0</td>\n",
              "            <td>5.0</td>\n",
              "            <td>1018</td>\n",
              "            <td>32</td>\n",
              "            <td>13000</td>\n",
              "            <td>NULL</td>\n",
              "            <td>F</td>\n",
              "            <td>2020-01-01 06:00:03</td>\n",
              "            <td>0</td>\n",
              "            <td>0</td>\n",
              "            <td>0</td>\n",
              "            <td>8</td>\n",
              "        </tr>\n",
              "        <tr>\n",
              "            <td>3002</td>\n",
              "            <td>2020-01-01 01:00:00</td>\n",
              "            <td>2020-01-01</td>\n",
              "            <td>01:00:00</td>\n",
              "            <td>7.5</td>\n",
              "            <td>22</td>\n",
              "            <td>81.7</td>\n",
              "            <td>4.6</td>\n",
              "            <td>1018</td>\n",
              "            <td>34</td>\n",
              "            <td>12000</td>\n",
              "            <td>NULL</td>\n",
              "            <td>F</td>\n",
              "            <td>2020-01-01 06:00:03</td>\n",
              "            <td>0</td>\n",
              "            <td>0</td>\n",
              "            <td>0</td>\n",
              "            <td>8</td>\n",
              "        </tr>\n",
              "        <tr>\n",
              "            <td>3002</td>\n",
              "            <td>2020-01-01 02:00:00</td>\n",
              "            <td>2020-01-01</td>\n",
              "            <td>02:00:00</td>\n",
              "            <td>7.9</td>\n",
              "            <td>24</td>\n",
              "            <td>79.9</td>\n",
              "            <td>4.7</td>\n",
              "            <td>1017</td>\n",
              "            <td>36</td>\n",
              "            <td>11000</td>\n",
              "            <td>NULL</td>\n",
              "            <td>F</td>\n",
              "            <td>2020-01-01 06:00:03</td>\n",
              "            <td>0</td>\n",
              "            <td>0</td>\n",
              "            <td>0</td>\n",
              "            <td>8</td>\n",
              "        </tr>\n",
              "        <tr>\n",
              "            <td>3002</td>\n",
              "            <td>2020-01-01 03:00:00</td>\n",
              "            <td>2020-01-01</td>\n",
              "            <td>03:00:00</td>\n",
              "            <td>7.5</td>\n",
              "            <td>23</td>\n",
              "            <td>82.3</td>\n",
              "            <td>4.7</td>\n",
              "            <td>1016</td>\n",
              "            <td>40</td>\n",
              "            <td>13000</td>\n",
              "            <td>NULL</td>\n",
              "            <td>F</td>\n",
              "            <td>2020-01-01 06:00:03</td>\n",
              "            <td>0</td>\n",
              "            <td>0</td>\n",
              "            <td>0</td>\n",
              "            <td>8</td>\n",
              "        </tr>\n",
              "        <tr>\n",
              "            <td>3002</td>\n",
              "            <td>2020-01-01 05:00:00</td>\n",
              "            <td>2020-01-01</td>\n",
              "            <td>05:00:00</td>\n",
              "            <td>8.3</td>\n",
              "            <td>24</td>\n",
              "            <td>85.3</td>\n",
              "            <td>6.0</td>\n",
              "            <td>1015</td>\n",
              "            <td>33</td>\n",
              "            <td>11000</td>\n",
              "            <td>NULL</td>\n",
              "            <td>F</td>\n",
              "            <td>2020-01-01 06:00:03</td>\n",
              "            <td>0</td>\n",
              "            <td>0</td>\n",
              "            <td>0</td>\n",
              "            <td>8</td>\n",
              "        </tr>\n",
              "    </tbody>\n",
              "</table>"
            ]
          },
          "metadata": {},
          "execution_count": 7
        }
      ]
    },
    {
      "cell_type": "markdown",
      "source": [
        "## Comparison Operators\n",
        "- Equal to: `=`\n",
        "- Greater than: `>`\n",
        "- Less than: `<`\n",
        "- Greater than or equal to `>=`\n",
        "- Less than or equal to `<=`\n",
        "- Not equal to `<>` or `!=`\n",
        "- Whether a value is within a range of values: `BETWEEN... And...`\n",
        "- Test a value: `IS` and `IS NOT` which work as `=` and `!=`. If both null return 1 and 0 respectively.\n",
        "- NULL/Not NULL value test: `IS NULL` and `IS NOT NULL`\n",
        "- Simple pattern matching: `LIKE`\n",
        "- Whether a value is not within a range of values: `NOT Between <value 1> AND <value 2>`\n",
        "- Negation of simple pattern matching `NOT LIKE`.\n",
        "\n",
        "We will use the NOT BETWEEN… AND … operator to filter the data outside an interval:\n",
        "```sql\n",
        "SELECT Field1, Field2\n",
        "FROM Table_name\n",
        "WHERE\n",
        "Condition NOT BETWEEN value1 AND value2\n",
        "```"
      ],
      "metadata": {
        "id": "H3WxK-CBUafC"
      }
    },
    {
      "cell_type": "markdown",
      "source": [
        "## Example 3\n",
        " Working on the table `metoffice_dailyweatherdata`, picking out those\n",
        "records with the temperature beyond the range of `[-1, 11]`.\n",
        "### Hint\n",
        "- Tables: metoffice_dailyweatherdata -- temperature\n",
        "- Information:\n",
        "  + All columns in `metoffice_dailyweatherdata`\n",
        "- Conditions(filters) in WHERE: No\n",
        "  + Temperature is not between -1 and 11 .\n",
        "- Any groups?\n",
        "  + No"
      ],
      "metadata": {
        "id": "yxlfg80csUoX"
      }
    },
    {
      "cell_type": "code",
      "source": [
        "%%sql\n",
        "SELECT *\n",
        "FROM metoffice_dailyweatherdata\n",
        "WHERE temperature NOT BETWEEN -1 AND 11\n",
        "LIMIT 5;"
      ],
      "metadata": {
        "colab": {
          "base_uri": "https://localhost:8080/",
          "height": 373
        },
        "id": "3lpWg8_ltdmp",
        "outputId": "05ab509e-2142-45d4-ddde-50710803110e"
      },
      "execution_count": null,
      "outputs": [
        {
          "output_type": "stream",
          "name": "stdout",
          "text": [
            " * sqlite:///weather.db\n",
            "Done.\n"
          ]
        },
        {
          "output_type": "execute_result",
          "data": {
            "text/plain": [
              "[(3068, '2020-01-01 01:00:00', '2020-01-01', '01:00:00', -1.3, 7, 80.4, -3.7, 1024, None, 50000, 'NULL', 'F', '2020-01-01 06:00:04', '0', '0', '0', '2'),\n",
              " (3091, '2020-01-01 01:00:00', '2020-01-01', '01:00:00', -1.1, 7, 82.1, -3.3, 1025, None, 45000, 'NULL', 'F', '2020-01-01 06:00:04', '0', '0', '0', '0'),\n",
              " (3091, '2020-01-01 02:00:00', '2020-01-01', '02:00:00', -1.9, 2, 80.8, -4.2, 1024, None, 40000, 'NULL', 'F', '2020-01-01 06:00:04', '0', '0', '0', '0'),\n",
              " (3091, '2020-01-01 03:00:00', '2020-01-01', '03:00:00', -1.1, 3, 82.6, -3.2, 1023, None, 50000, 'NULL', 'F', '2020-01-01 06:00:04', '0', '0', '0', '0'),\n",
              " (3162, '2020-01-01 00:00:00', '2020-01-01', '00:00:00', -2.5, 1, 96.1, -2.7, 1031, None, 7000, 'NULL', 'F', '2020-01-01 06:00:04', '0', '0', '0', '5')]"
            ],
            "text/html": [
              "<table>\n",
              "    <thead>\n",
              "        <tr>\n",
              "            <th>LocationId</th>\n",
              "            <th>obs_dateTime</th>\n",
              "            <th>obs_date</th>\n",
              "            <th>obs_time</th>\n",
              "            <th>temperature</th>\n",
              "            <th>windspeed</th>\n",
              "            <th>humidity</th>\n",
              "            <th>dewpoint</th>\n",
              "            <th>pressure</th>\n",
              "            <th>windgust</th>\n",
              "            <th>visibility</th>\n",
              "            <th>winddirection</th>\n",
              "            <th>pressuretendency</th>\n",
              "            <th>timestamp</th>\n",
              "            <th>rainy</th>\n",
              "            <th>windy</th>\n",
              "            <th>snow</th>\n",
              "            <th>weatherType</th>\n",
              "        </tr>\n",
              "    </thead>\n",
              "    <tbody>\n",
              "        <tr>\n",
              "            <td>3068</td>\n",
              "            <td>2020-01-01 01:00:00</td>\n",
              "            <td>2020-01-01</td>\n",
              "            <td>01:00:00</td>\n",
              "            <td>-1.3</td>\n",
              "            <td>7</td>\n",
              "            <td>80.4</td>\n",
              "            <td>-3.7</td>\n",
              "            <td>1024</td>\n",
              "            <td>None</td>\n",
              "            <td>50000</td>\n",
              "            <td>NULL</td>\n",
              "            <td>F</td>\n",
              "            <td>2020-01-01 06:00:04</td>\n",
              "            <td>0</td>\n",
              "            <td>0</td>\n",
              "            <td>0</td>\n",
              "            <td>2</td>\n",
              "        </tr>\n",
              "        <tr>\n",
              "            <td>3091</td>\n",
              "            <td>2020-01-01 01:00:00</td>\n",
              "            <td>2020-01-01</td>\n",
              "            <td>01:00:00</td>\n",
              "            <td>-1.1</td>\n",
              "            <td>7</td>\n",
              "            <td>82.1</td>\n",
              "            <td>-3.3</td>\n",
              "            <td>1025</td>\n",
              "            <td>None</td>\n",
              "            <td>45000</td>\n",
              "            <td>NULL</td>\n",
              "            <td>F</td>\n",
              "            <td>2020-01-01 06:00:04</td>\n",
              "            <td>0</td>\n",
              "            <td>0</td>\n",
              "            <td>0</td>\n",
              "            <td>0</td>\n",
              "        </tr>\n",
              "        <tr>\n",
              "            <td>3091</td>\n",
              "            <td>2020-01-01 02:00:00</td>\n",
              "            <td>2020-01-01</td>\n",
              "            <td>02:00:00</td>\n",
              "            <td>-1.9</td>\n",
              "            <td>2</td>\n",
              "            <td>80.8</td>\n",
              "            <td>-4.2</td>\n",
              "            <td>1024</td>\n",
              "            <td>None</td>\n",
              "            <td>40000</td>\n",
              "            <td>NULL</td>\n",
              "            <td>F</td>\n",
              "            <td>2020-01-01 06:00:04</td>\n",
              "            <td>0</td>\n",
              "            <td>0</td>\n",
              "            <td>0</td>\n",
              "            <td>0</td>\n",
              "        </tr>\n",
              "        <tr>\n",
              "            <td>3091</td>\n",
              "            <td>2020-01-01 03:00:00</td>\n",
              "            <td>2020-01-01</td>\n",
              "            <td>03:00:00</td>\n",
              "            <td>-1.1</td>\n",
              "            <td>3</td>\n",
              "            <td>82.6</td>\n",
              "            <td>-3.2</td>\n",
              "            <td>1023</td>\n",
              "            <td>None</td>\n",
              "            <td>50000</td>\n",
              "            <td>NULL</td>\n",
              "            <td>F</td>\n",
              "            <td>2020-01-01 06:00:04</td>\n",
              "            <td>0</td>\n",
              "            <td>0</td>\n",
              "            <td>0</td>\n",
              "            <td>0</td>\n",
              "        </tr>\n",
              "        <tr>\n",
              "            <td>3162</td>\n",
              "            <td>2020-01-01 00:00:00</td>\n",
              "            <td>2020-01-01</td>\n",
              "            <td>00:00:00</td>\n",
              "            <td>-2.5</td>\n",
              "            <td>1</td>\n",
              "            <td>96.1</td>\n",
              "            <td>-2.7</td>\n",
              "            <td>1031</td>\n",
              "            <td>None</td>\n",
              "            <td>7000</td>\n",
              "            <td>NULL</td>\n",
              "            <td>F</td>\n",
              "            <td>2020-01-01 06:00:04</td>\n",
              "            <td>0</td>\n",
              "            <td>0</td>\n",
              "            <td>0</td>\n",
              "            <td>5</td>\n",
              "        </tr>\n",
              "    </tbody>\n",
              "</table>"
            ]
          },
          "metadata": {},
          "execution_count": 10
        }
      ]
    },
    {
      "cell_type": "markdown",
      "source": [
        "## Regular Expressions\n",
        "Regular expressions follow a special syntax (outside sql) to describe a search pattern in **text**. This allows for more complicated patterns compared to the `LIKE` operator. Syntax:\n",
        "```\n",
        "Select <REGEXP Pattern> FROM <table>\n",
        "```\n",
        "Some examples of common REGEXP patterns:\n",
        "- \".\" Mathces to any character/number/symbol\n",
        "- \"*\" Mathes zero/many repetitions of the previous character, e.g. \".*\" matches all characters.\n",
        "- \"+\" Same as \"*\" but matches one/many repetitions: e.g. \"1+\" mathces 1, 11, 111, etc.\n",
        "- \"[123]\" Matches the characters in the brackets\n"
      ],
      "metadata": {
        "id": "wT7m6940t5fX"
      }
    },
    {
      "cell_type": "markdown",
      "source": [
        "## Example 4\n",
        "Working on the table `metoffice_forecast_text`, return all the records with an\n",
        "added column `check_for_digits`. The new column `check_for_digits` returns an 0, 1 flag for whether the text in the “forecastText” contains one or more digits.\n",
        "### Hint\n",
        "- Tables: metoffice_dailyweatherdata, forecastText\n",
        "- Information:\n",
        "  + All columns\n",
        "  + `Check_for_digits`\n",
        "- Conditions in WHERE:\n",
        "  + Contain a digit, (at least one number 0,1,...,9)\n",
        "- Any Groups?\n",
        "  + no"
      ],
      "metadata": {
        "id": "ub_5TNqbvPpt"
      }
    },
    {
      "cell_type": "code",
      "source": [
        "%%sql\n",
        "SELECT *, forecastText REGEXP '[0-9]' AS check_for_digits\n",
        "FROM metoffice_forecast_text LIMIT 10;"
      ],
      "metadata": {
        "colab": {
          "base_uri": "https://localhost:8080/",
          "height": 1000
        },
        "id": "oDYfd1rmwbPI",
        "outputId": "d4ff7a04-b03f-4cc9-95f9-2a8eccfecb2a"
      },
      "execution_count": null,
      "outputs": [
        {
          "output_type": "stream",
          "name": "stdout",
          "text": [
            " * sqlite:///weather.db\n",
            "Done.\n"
          ]
        },
        {
          "output_type": "execute_result",
          "data": {
            "text/plain": [
              "[(500, 'os', '2020-01-01 04:00:00', '1', 'day1to2', 'Headline:Today:Tonight:Thursday:', 'Very windy but mainly dry.A cloudy day. Perhaps a little light rain this morning over Shetland otherwise dry. A few brighter interludes. Quite mild,  ... (307 characters truncated) ... inly light but with some heavier outbreaks for a few hours later in the day. Southwesterly gales. Colder, showery in evening. Maximum Temperature 9C.', '2020-01-01 09:00:03', 1),\n",
              " (500, 'os', '2020-01-01 04:00:00', '2', 'day3to5', 'Outlook for Friday to Sunday:', 'Much colder on Friday with westerly gales and wintry showers. Showers dying out Saturday, some rain in evening. Sunday cloudy with rain at times.', '2020-01-01 09:00:03', 0),\n",
              " (500, 'os', '2020-01-01 04:00:00', '3', 'day6to15', 'UK Outlook for Sunday 5 Jan 2020 to Tuesday 14 Jan 2020:', 'It looks likely to stay unsettled across the northwest with spells of locally heavy rain and strengthening winds interspersed with scattered showers. ... (445 characters truncated) ...  some very mild conditions locally. Further south, temperatures should be be around normal for the time of year with some colder interludes possible.', '2020-01-01 09:00:03', 0),\n",
              " (500, 'os', '2020-01-01 04:00:00', '4', 'day16to30', 'UK Outlook for Wednesday 15 Jan 2020 to Wednesday 29 Jan 2020:', 'Spells of heavy rain and strong winds look most likely across northern and western parts. These could be interspersed by more showery interludes wher ... (249 characters truncated) ... th the potential for some colder spells. Further south, temperatures should be be around normal for the time of year but may be rather cold at times.', '2020-01-01 09:00:03', 0),\n",
              " (501, 'he', '2020-01-01 04:00:00', '1', 'day1to2', 'Headline:Today:Tonight:Thursday:', 'Windy and mild. Patchy rain west, otherwise dry.Mainly cloudy with patchy rain in the west but a few bright spells in the east. Strong south to south ... (361 characters truncated) ... en brightening up for a while. Another band of rain will follow in the afternoon, then clearer and colder in evening, Gales. Maximum Temperature 12C.', '2020-01-01 09:00:03', 1),\n",
              " (501, 'he', '2020-01-01 04:00:00', '2', 'day3to5', 'Outlook for Friday to Sunday:', 'Much colder on Friday with strong westerly winds and wintry showers. Drier spell on Saturday but patchy rain later. Sunday cloudy, mild, breezy, a little rain mainly in west.', '2020-01-01 09:00:03', 0),\n",
              " (501, 'he', '2020-01-01 04:00:00', '4', 'day16to30', 'UK Outlook for Wednesday 15 Jan 2020 to Wednesday 29 Jan 2020:', 'Spells of heavy rain and strong winds look most likely across northern and western parts. These could be interspersed by more showery interludes wher ... (249 characters truncated) ... th the potential for some colder spells. Further south, temperatures should be be around normal for the time of year but may be rather cold at times.', '2020-01-01 09:00:03', 0),\n",
              " (502, 'gr', '2020-01-01 04:00:00', '1', 'day1to2', 'Headline:Today:Tonight:Thursday:', 'Dry with sunny spells.A dry start to New Year with some sunny spells. A breezy day along the east coast and over the hills but lighter winds in shelt ... (317 characters truncated) ... e west, the rain mainly affecting southern and western areas. Brightening up again later but some evening rain. Windy, mild. Maximum Temperature 11C.', '2020-01-01 09:00:03', 1),\n",
              " (502, 'gr', '2020-01-01 04:00:00', '2', 'day3to5', 'Outlook for Friday to Sunday:', 'Colder on Friday with sunshine and showers, wintry on the hills. Mainly dry on Saturday, patchy rain later. Sunday breezy, mild, mainly dry', '2020-01-01 09:00:03', 0),\n",
              " (501, 'he', '2020-01-01 04:00:00', '3', 'day6to15', 'UK Outlook for Sunday 5 Jan 2020 to Tuesday 14 Jan 2020:', 'It looks likely to stay unsettled across the northwest with spells of locally heavy rain and strengthening winds interspersed with scattered showers. ... (445 characters truncated) ...  some very mild conditions locally. Further south, temperatures should be be around normal for the time of year with some colder interludes possible.', '2020-01-01 09:00:03', 0)]"
            ],
            "text/html": [
              "<table>\n",
              "    <thead>\n",
              "        <tr>\n",
              "            <th>regionID</th>\n",
              "            <th>region</th>\n",
              "            <th>issuedAt</th>\n",
              "            <th>periodID</th>\n",
              "            <th>period</th>\n",
              "            <th>title</th>\n",
              "            <th>forecastText</th>\n",
              "            <th>createdOn</th>\n",
              "            <th>check_for_digits</th>\n",
              "        </tr>\n",
              "    </thead>\n",
              "    <tbody>\n",
              "        <tr>\n",
              "            <td>500</td>\n",
              "            <td>os</td>\n",
              "            <td>2020-01-01 04:00:00</td>\n",
              "            <td>1</td>\n",
              "            <td>day1to2</td>\n",
              "            <td>Headline:Today:Tonight:Thursday:</td>\n",
              "            <td>Very windy but mainly dry.A cloudy day. Perhaps a little light rain this morning over Shetland otherwise dry. A few brighter interludes. Quite mild, but fresh to strong southwesterly winds, perhaps touching gale at times over Shetland. Maximum Temperature 8C.Staying dry. Windy at times especially across Shetland where gales will become widespread later in the night. A mild night. Minimum Temperature 6C.Rather cloudy with a litlte rain at times, this mainly light but with some heavier outbreaks for a few hours later in the day. Southwesterly gales. Colder, showery in evening. Maximum Temperature 9C.</td>\n",
              "            <td>2020-01-01 09:00:03</td>\n",
              "            <td>1</td>\n",
              "        </tr>\n",
              "        <tr>\n",
              "            <td>500</td>\n",
              "            <td>os</td>\n",
              "            <td>2020-01-01 04:00:00</td>\n",
              "            <td>2</td>\n",
              "            <td>day3to5</td>\n",
              "            <td>Outlook for Friday to Sunday:</td>\n",
              "            <td>Much colder on Friday with westerly gales and wintry showers. Showers dying out Saturday, some rain in evening. Sunday cloudy with rain at times.</td>\n",
              "            <td>2020-01-01 09:00:03</td>\n",
              "            <td>0</td>\n",
              "        </tr>\n",
              "        <tr>\n",
              "            <td>500</td>\n",
              "            <td>os</td>\n",
              "            <td>2020-01-01 04:00:00</td>\n",
              "            <td>3</td>\n",
              "            <td>day6to15</td>\n",
              "            <td>UK Outlook for Sunday 5 Jan 2020 to Tuesday 14 Jan 2020:</td>\n",
              "            <td>It looks likely to stay unsettled across the northwest with spells of locally heavy rain and strengthening winds interspersed with scattered showers. These showers could turn to snow over higher ground. Across the southeast it should be more settled with light winds and longer drier, brighter periods with some sunshine possible at times. Some rain is still possible at times but any rain is likely to be short lived. Away from the northwest, patchy frost and fog may develop overnight and be locally slow to clear. Temperatures look to be above average across the north with the potential for some very mild conditions locally. Further south, temperatures should be be around normal for the time of year with some colder interludes possible.</td>\n",
              "            <td>2020-01-01 09:00:03</td>\n",
              "            <td>0</td>\n",
              "        </tr>\n",
              "        <tr>\n",
              "            <td>500</td>\n",
              "            <td>os</td>\n",
              "            <td>2020-01-01 04:00:00</td>\n",
              "            <td>4</td>\n",
              "            <td>day16to30</td>\n",
              "            <td>UK Outlook for Wednesday 15 Jan 2020 to Wednesday 29 Jan 2020:</td>\n",
              "            <td>Spells of heavy rain and strong winds look most likely across northern and western parts. These could be interspersed by more showery interludes where some snow could fall over higher ground. The best of any drier and brighter conditions appear most likely across the east and southeast. There is still a chance for some rain here at times. Temperatures look to be above average across the north with the potential for some colder spells. Further south, temperatures should be be around normal for the time of year but may be rather cold at times.</td>\n",
              "            <td>2020-01-01 09:00:03</td>\n",
              "            <td>0</td>\n",
              "        </tr>\n",
              "        <tr>\n",
              "            <td>501</td>\n",
              "            <td>he</td>\n",
              "            <td>2020-01-01 04:00:00</td>\n",
              "            <td>1</td>\n",
              "            <td>day1to2</td>\n",
              "            <td>Headline:Today:Tonight:Thursday:</td>\n",
              "            <td>Windy and mild. Patchy rain west, otherwise dry.Mainly cloudy with patchy rain in the west but a few bright spells in the east. Strong south to southwestely winds, with gales developing over the Hebrides, perhaps severe later. Maximum Temperature 10C.Generally dry, a few clear spells in east, cloudier in west. Some rain reaching the Hebrides and Northwest Highlands towards morning. Mild, but windy, severe gales in far northwest. Minimum Temperature 7C.Rain, heavy in west, spreading southeast in morning then brightening up for a while. Another band of rain will follow in the afternoon, then clearer and colder in evening, Gales. Maximum Temperature 12C.</td>\n",
              "            <td>2020-01-01 09:00:03</td>\n",
              "            <td>1</td>\n",
              "        </tr>\n",
              "        <tr>\n",
              "            <td>501</td>\n",
              "            <td>he</td>\n",
              "            <td>2020-01-01 04:00:00</td>\n",
              "            <td>2</td>\n",
              "            <td>day3to5</td>\n",
              "            <td>Outlook for Friday to Sunday:</td>\n",
              "            <td>Much colder on Friday with strong westerly winds and wintry showers. Drier spell on Saturday but patchy rain later. Sunday cloudy, mild, breezy, a little rain mainly in west.</td>\n",
              "            <td>2020-01-01 09:00:03</td>\n",
              "            <td>0</td>\n",
              "        </tr>\n",
              "        <tr>\n",
              "            <td>501</td>\n",
              "            <td>he</td>\n",
              "            <td>2020-01-01 04:00:00</td>\n",
              "            <td>4</td>\n",
              "            <td>day16to30</td>\n",
              "            <td>UK Outlook for Wednesday 15 Jan 2020 to Wednesday 29 Jan 2020:</td>\n",
              "            <td>Spells of heavy rain and strong winds look most likely across northern and western parts. These could be interspersed by more showery interludes where some snow could fall over higher ground. The best of any drier and brighter conditions appear most likely across the east and southeast. There is still a chance for some rain here at times. Temperatures look to be above average across the north with the potential for some colder spells. Further south, temperatures should be be around normal for the time of year but may be rather cold at times.</td>\n",
              "            <td>2020-01-01 09:00:03</td>\n",
              "            <td>0</td>\n",
              "        </tr>\n",
              "        <tr>\n",
              "            <td>502</td>\n",
              "            <td>gr</td>\n",
              "            <td>2020-01-01 04:00:00</td>\n",
              "            <td>1</td>\n",
              "            <td>day1to2</td>\n",
              "            <td>Headline:Today:Tonight:Thursday:</td>\n",
              "            <td>Dry with sunny spells.A dry start to New Year with some sunny spells. A breezy day along the east coast and over the hills but lighter winds in shelter with a few colder spots inland. Maximum Temperature 7C.Staying dry with some clear spells though southern Aberdeenshire may turn cloudier later. A windy night especially along east coast. Lighter winds at first may allow inland frost. Minimum Temperature 2C.Early brightness in north fading as rain crosses from the west, the rain mainly affecting southern and western areas. Brightening up again later but some evening rain. Windy, mild. Maximum Temperature 11C.</td>\n",
              "            <td>2020-01-01 09:00:03</td>\n",
              "            <td>1</td>\n",
              "        </tr>\n",
              "        <tr>\n",
              "            <td>502</td>\n",
              "            <td>gr</td>\n",
              "            <td>2020-01-01 04:00:00</td>\n",
              "            <td>2</td>\n",
              "            <td>day3to5</td>\n",
              "            <td>Outlook for Friday to Sunday:</td>\n",
              "            <td>Colder on Friday with sunshine and showers, wintry on the hills. Mainly dry on Saturday, patchy rain later. Sunday breezy, mild, mainly dry</td>\n",
              "            <td>2020-01-01 09:00:03</td>\n",
              "            <td>0</td>\n",
              "        </tr>\n",
              "        <tr>\n",
              "            <td>501</td>\n",
              "            <td>he</td>\n",
              "            <td>2020-01-01 04:00:00</td>\n",
              "            <td>3</td>\n",
              "            <td>day6to15</td>\n",
              "            <td>UK Outlook for Sunday 5 Jan 2020 to Tuesday 14 Jan 2020:</td>\n",
              "            <td>It looks likely to stay unsettled across the northwest with spells of locally heavy rain and strengthening winds interspersed with scattered showers. These showers could turn to snow over higher ground. Across the southeast it should be more settled with light winds and longer drier, brighter periods with some sunshine possible at times. Some rain is still possible at times but any rain is likely to be short lived. Away from the northwest, patchy frost and fog may develop overnight and be locally slow to clear. Temperatures look to be above average across the north with the potential for some very mild conditions locally. Further south, temperatures should be be around normal for the time of year with some colder interludes possible.</td>\n",
              "            <td>2020-01-01 09:00:03</td>\n",
              "            <td>0</td>\n",
              "        </tr>\n",
              "    </tbody>\n",
              "</table>"
            ]
          },
          "metadata": {},
          "execution_count": 3
        }
      ]
    },
    {
      "cell_type": "markdown",
      "source": [
        "## Subqueries in SELECT statement\n",
        "We can have nested SELECT statements.\n",
        "```sql\n",
        "SELECT Field1,(SELECT Field2\n",
        "  FROM Table_name2\n",
        "  )\n",
        "FROM Table_name1\n",
        "```"
      ],
      "metadata": {
        "id": "v9lMzKsvxpKT"
      }
    },
    {
      "cell_type": "markdown",
      "source": [
        "## Example 5\n",
        "Working on the `metoffice_dailyweatherdata`. Return a resulting table with\n",
        "two columns: one column contains all the windspeed, another one known as `max_wind` contains the maximum windspeed computed from this table.\n",
        "###Hint\n",
        "- Tables:\n",
        "  + metoffice_dailyweatherdata--- windspeed\n",
        "- Information:\n",
        "  + windspeed\n",
        "  + Max_wind\n",
        "- Conditions(filters) in WHERE:\n",
        "  + no\n",
        "- Any groups?\n",
        "  + No"
      ],
      "metadata": {
        "id": "Gv_Ri0Bozv1r"
      }
    },
    {
      "cell_type": "code",
      "source": [
        "%%sql\n",
        "SELECT windspeed,(SELECT MAX(windspeed)\n",
        "  FROM  metoffice_dailyweatherdata\n",
        "  ) AS max_wind\n",
        "FROM metoffice_dailyweatherdata LIMIT 10;"
      ],
      "metadata": {
        "colab": {
          "base_uri": "https://localhost:8080/",
          "height": 289
        },
        "id": "DybcJrA1zy6M",
        "outputId": "c7faa9c6-cbf5-4904-b8cc-a4919f8dcad4"
      },
      "execution_count": null,
      "outputs": [
        {
          "output_type": "stream",
          "name": "stdout",
          "text": [
            " * sqlite:///weather.db\n",
            "Done.\n"
          ]
        },
        {
          "output_type": "execute_result",
          "data": {
            "text/plain": [
              "[(21, 72),\n",
              " (22, 72),\n",
              " (24, 72),\n",
              " (23, 72),\n",
              " (18, 72),\n",
              " (24, 72),\n",
              " (33, 72),\n",
              " (36, 72),\n",
              " (32, 72),\n",
              " (34, 72)]"
            ],
            "text/html": [
              "<table>\n",
              "    <thead>\n",
              "        <tr>\n",
              "            <th>windspeed</th>\n",
              "            <th>max_wind</th>\n",
              "        </tr>\n",
              "    </thead>\n",
              "    <tbody>\n",
              "        <tr>\n",
              "            <td>21</td>\n",
              "            <td>72</td>\n",
              "        </tr>\n",
              "        <tr>\n",
              "            <td>22</td>\n",
              "            <td>72</td>\n",
              "        </tr>\n",
              "        <tr>\n",
              "            <td>24</td>\n",
              "            <td>72</td>\n",
              "        </tr>\n",
              "        <tr>\n",
              "            <td>23</td>\n",
              "            <td>72</td>\n",
              "        </tr>\n",
              "        <tr>\n",
              "            <td>18</td>\n",
              "            <td>72</td>\n",
              "        </tr>\n",
              "        <tr>\n",
              "            <td>24</td>\n",
              "            <td>72</td>\n",
              "        </tr>\n",
              "        <tr>\n",
              "            <td>33</td>\n",
              "            <td>72</td>\n",
              "        </tr>\n",
              "        <tr>\n",
              "            <td>36</td>\n",
              "            <td>72</td>\n",
              "        </tr>\n",
              "        <tr>\n",
              "            <td>32</td>\n",
              "            <td>72</td>\n",
              "        </tr>\n",
              "        <tr>\n",
              "            <td>34</td>\n",
              "            <td>72</td>\n",
              "        </tr>\n",
              "    </tbody>\n",
              "</table>"
            ]
          },
          "metadata": {},
          "execution_count": 5
        }
      ]
    },
    {
      "cell_type": "markdown",
      "source": [
        "## Subqueries in FROM statement\n",
        "```sql\n",
        "SELECT Field1\n",
        "FROM (SELECT Field1 ,Field2\n",
        "      FROM Table_name )\n",
        "New_table_name\n",
        "```"
      ],
      "metadata": {
        "id": "069rMYnycdPY"
      }
    },
    {
      "cell_type": "markdown",
      "source": [
        "## Example 6\n",
        "Working on the table `metoffice_dailyweatherdata`. For each `locationID`,\n",
        "compute the maximum temperature (`max_temperature`). Based on this result, filtering those locationIDs and maximum temperatures with max_temperature larger than 10.\n",
        "### Hint\n",
        "- Tables:\n",
        "  + metoffice_dailyweatherdata--- temperature,\n",
        "  + locationID\n",
        "- Information:\n",
        "  + locationID\n",
        "  + Max_temperature\n",
        "- Conditions(filters) in WHERE:\n",
        "  + Max_temperature >10\n",
        "- Any groups?\n",
        "  + `locationID` (for each locationID compute its corresponding maximum temperature)"
      ],
      "metadata": {
        "id": "me8GbqxdcnLJ"
      }
    },
    {
      "cell_type": "code",
      "source": [
        "%%sql\n",
        "SELECT * FROM\n",
        "    (SELECT LocationID,\n",
        "      MAX(temperature) AS max_temperature\n",
        "      FROM metoffice_dailyweatherdata\n",
        "      GROUP BY LocationID) new_table\n",
        "  WHERE max_temperature > 10\n",
        "  LIMIT 10;"
      ],
      "metadata": {
        "colab": {
          "base_uri": "https://localhost:8080/",
          "height": 289
        },
        "id": "SiYfOwYCdAK1",
        "outputId": "8e768ffd-5915-4baf-b543-f7ecc95e8a27"
      },
      "execution_count": null,
      "outputs": [
        {
          "output_type": "stream",
          "name": "stdout",
          "text": [
            " * sqlite:///weather.db\n",
            "Done.\n"
          ]
        },
        {
          "output_type": "execute_result",
          "data": {
            "text/plain": [
              "[(3023, 10.2),\n",
              " (3031, 11.4),\n",
              " (3034, 10.2),\n",
              " (3044, 12.7),\n",
              " (3066, 10.7),\n",
              " (3080, 10.7),\n",
              " (3091, 10.6),\n",
              " (3100, 10.1),\n",
              " (3105, 10.7),\n",
              " (3111, 11.3)]"
            ],
            "text/html": [
              "<table>\n",
              "    <thead>\n",
              "        <tr>\n",
              "            <th>LocationID</th>\n",
              "            <th>max_temperature</th>\n",
              "        </tr>\n",
              "    </thead>\n",
              "    <tbody>\n",
              "        <tr>\n",
              "            <td>3023</td>\n",
              "            <td>10.2</td>\n",
              "        </tr>\n",
              "        <tr>\n",
              "            <td>3031</td>\n",
              "            <td>11.4</td>\n",
              "        </tr>\n",
              "        <tr>\n",
              "            <td>3034</td>\n",
              "            <td>10.2</td>\n",
              "        </tr>\n",
              "        <tr>\n",
              "            <td>3044</td>\n",
              "            <td>12.7</td>\n",
              "        </tr>\n",
              "        <tr>\n",
              "            <td>3066</td>\n",
              "            <td>10.7</td>\n",
              "        </tr>\n",
              "        <tr>\n",
              "            <td>3080</td>\n",
              "            <td>10.7</td>\n",
              "        </tr>\n",
              "        <tr>\n",
              "            <td>3091</td>\n",
              "            <td>10.6</td>\n",
              "        </tr>\n",
              "        <tr>\n",
              "            <td>3100</td>\n",
              "            <td>10.1</td>\n",
              "        </tr>\n",
              "        <tr>\n",
              "            <td>3105</td>\n",
              "            <td>10.7</td>\n",
              "        </tr>\n",
              "        <tr>\n",
              "            <td>3111</td>\n",
              "            <td>11.3</td>\n",
              "        </tr>\n",
              "    </tbody>\n",
              "</table>"
            ]
          },
          "metadata": {},
          "execution_count": 7
        }
      ]
    },
    {
      "cell_type": "markdown",
      "source": [
        "## Subqueries in WHERE statement\n",
        "```sql\n",
        "SELECT Field1\n",
        "  FROM Table_name1\n",
        "  WHERE Field1 IN any (SELECT Field2\n",
        "  FROM Table_name2 )\n",
        "```"
      ],
      "metadata": {
        "id": "eF9T5is1dyBT"
      }
    },
    {
      "cell_type": "markdown",
      "source": [
        "## Example 7\n",
        "Working on tables `zones` and `timezone`. Picking out records from `zones`\n",
        "whose `zone_id` are within the range of unique `zone_id` numbers in table `timezone`.\n",
        "### Hint\n",
        "- Tables:\n",
        "  + zones\n",
        "  + timezone\n",
        "- Information:\n",
        "  + All columns from zone\n",
        "- Conditions(filters) in WHERE:\n",
        "  + “Zone_id” IN the range of all the unique “zone_id” picked out from “timezone”\n",
        "- Any groups?\n",
        "  + no"
      ],
      "metadata": {
        "id": "9KdRP-Jld9YP"
      }
    },
    {
      "cell_type": "code",
      "source": [
        "%%sql\n",
        "SELECT * FROM zones\n",
        "WHERE zone_id IN (SELECT DISTINCT\n",
        "  zone_id\n",
        "  FROM timezone) LIMIT 10;"
      ],
      "metadata": {
        "colab": {
          "base_uri": "https://localhost:8080/",
          "height": 289
        },
        "id": "TX4WyUlMd8YD",
        "outputId": "d5392efb-7619-479a-c64d-343fecfe5a4d"
      },
      "execution_count": null,
      "outputs": [
        {
          "output_type": "stream",
          "name": "stdout",
          "text": [
            " * sqlite:///weather.db\n",
            "Done.\n"
          ]
        },
        {
          "output_type": "execute_result",
          "data": {
            "text/plain": [
              "[(1, 'AD', 'Europe/Andorra'),\n",
              " (2, 'AE', 'Asia/Dubai'),\n",
              " (3, 'AF', 'Asia/Kabul'),\n",
              " (4, 'AG', 'America/Antigua'),\n",
              " (5, 'AI', 'America/Anguilla'),\n",
              " (6, 'AL', 'Europe/Tirane'),\n",
              " (7, 'AM', 'Asia/Yerevan'),\n",
              " (8, 'AO', 'Africa/Luanda'),\n",
              " (9, 'AQ', 'Antarctica/McMurdo'),\n",
              " (10, 'AQ', 'Antarctica/Rothera')]"
            ],
            "text/html": [
              "<table>\n",
              "    <thead>\n",
              "        <tr>\n",
              "            <th>zone_id</th>\n",
              "            <th>country_code</th>\n",
              "            <th>zone_name</th>\n",
              "        </tr>\n",
              "    </thead>\n",
              "    <tbody>\n",
              "        <tr>\n",
              "            <td>1</td>\n",
              "            <td>AD</td>\n",
              "            <td>Europe/Andorra</td>\n",
              "        </tr>\n",
              "        <tr>\n",
              "            <td>2</td>\n",
              "            <td>AE</td>\n",
              "            <td>Asia/Dubai</td>\n",
              "        </tr>\n",
              "        <tr>\n",
              "            <td>3</td>\n",
              "            <td>AF</td>\n",
              "            <td>Asia/Kabul</td>\n",
              "        </tr>\n",
              "        <tr>\n",
              "            <td>4</td>\n",
              "            <td>AG</td>\n",
              "            <td>America/Antigua</td>\n",
              "        </tr>\n",
              "        <tr>\n",
              "            <td>5</td>\n",
              "            <td>AI</td>\n",
              "            <td>America/Anguilla</td>\n",
              "        </tr>\n",
              "        <tr>\n",
              "            <td>6</td>\n",
              "            <td>AL</td>\n",
              "            <td>Europe/Tirane</td>\n",
              "        </tr>\n",
              "        <tr>\n",
              "            <td>7</td>\n",
              "            <td>AM</td>\n",
              "            <td>Asia/Yerevan</td>\n",
              "        </tr>\n",
              "        <tr>\n",
              "            <td>8</td>\n",
              "            <td>AO</td>\n",
              "            <td>Africa/Luanda</td>\n",
              "        </tr>\n",
              "        <tr>\n",
              "            <td>9</td>\n",
              "            <td>AQ</td>\n",
              "            <td>Antarctica/McMurdo</td>\n",
              "        </tr>\n",
              "        <tr>\n",
              "            <td>10</td>\n",
              "            <td>AQ</td>\n",
              "            <td>Antarctica/Rothera</td>\n",
              "        </tr>\n",
              "    </tbody>\n",
              "</table>"
            ]
          },
          "metadata": {},
          "execution_count": 10
        }
      ]
    },
    {
      "cell_type": "markdown",
      "source": [
        "# Exercises\n",
        "MySQL can open multiple databases so we need to specify the name of the database (e.g. `DATABASE_NAME.TABLE_NAME`).\n",
        "But `SQLite` (the SQL database that we use in this notebook) opens only one database at a time and we don't use the name of the database. As an example the table `cat_regions` is:\n",
        "- **MySQL**: `weather_db.cat_regions`\n",
        "- **SQLite**: `cat_regions`"
      ],
      "metadata": {
        "id": "PrM6f9-To_Rb"
      }
    },
    {
      "cell_type": "markdown",
      "source": [
        "## Exercise 1\n",
        "Working on the table “cat_locations”. Picking out all the records with “Latitude” smaller than those records with location to be “London”.\n",
        "\n",
        "###Hint\n",
        "- Step 1: pick out all those latitude values with location assigned as ‘London’. (nested to WHERE statement)\n",
        "- Step 2: From cat_location (FROM...), pick out all the records (SELECT), with condition such that `Latitude` < London’s latitude (WHERE ... <need a nested sql command get from step 1>)"
      ],
      "metadata": {
        "id": "ze018k6GnSzR"
      }
    },
    {
      "cell_type": "code",
      "source": [
        "%%sql\n",
        "SELECT *\n",
        "FROM cat_locations\n",
        "WHERE Latitude < (\n",
        "  SELECT Latitude\n",
        "  FROM cat_locations\n",
        "  where   location = 'London')\n",
        "LIMIT 10;"
      ],
      "metadata": {
        "colab": {
          "base_uri": "https://localhost:8080/",
          "height": 375
        },
        "id": "ngsAefZ1_cIw",
        "outputId": "d06c6d3c-d335-4d78-d30c-450dfe92c3c1"
      },
      "execution_count": null,
      "outputs": [
        {
          "output_type": "stream",
          "name": "stdout",
          "text": [
            " * sqlite:///weather.db\n",
            "Done.\n"
          ]
        },
        {
          "output_type": "execute_result",
          "data": {
            "text/plain": [
              "[(3, 'Southampton Airport', None, None, 'se', 'South East', 50.9503, -1.3567, 'Europe', 11.0, '', 'Hampshire'),\n",
              " (5, 'London City Airport', None, None, 'se', 'South East', 51.5048, 0.058, 'Europe', 5.0, '', 'Greater London'),\n",
              " (6, 'Lydd', None, None, 'se', 'South East', 50.9561, 0.9392, 'Europe', 4.0, '', 'Kent'),\n",
              " (349, 'Dungeness B', None, None, 'se', 'South East', 50.9134, 0.9597, 'Europe', 5.0, '', 'Kent'),\n",
              " (3707, 'Chivenor', None, None, 'sw', 'South West', 51.089, -4.149, 'Europe', 6.0, '', 'Devon'),\n",
              " (3710, 'Liscombe', None, None, 'sw', 'South West', 51.087, -3.608, 'Europe', 348.0, 'Exmoor National Park', 'Somerset'),\n",
              " (3716, 'St-Athan', None, None, 'wl', 'Wales', 51.405, -3.44, 'Europe', 49.0, '', 'Vale of Glamorgan'),\n",
              " (3740, 'Lyneham', None, None, 'sw', 'South West', 51.5031, -1.9924, 'Europe', 145.0, '', 'Wiltshire'),\n",
              " (3743, 'Larkhill', None, None, 'sw', 'South West', 51.201, -1.805, 'Europe', 132.0, '', 'Wiltshire'),\n",
              " (3746, 'Boscombe Down', None, None, 'sw', 'South West', 51.161, -1.754, 'Europe', 126.0, '', 'Wiltshire')]"
            ],
            "text/html": [
              "<table>\n",
              "    <thead>\n",
              "        <tr>\n",
              "            <th>LocationID</th>\n",
              "            <th>Location</th>\n",
              "            <th>PostCode</th>\n",
              "            <th>Country</th>\n",
              "            <th>Region</th>\n",
              "            <th>region_description</th>\n",
              "            <th>Latitude</th>\n",
              "            <th>Longitude</th>\n",
              "            <th>Continent</th>\n",
              "            <th>Elevation</th>\n",
              "            <th>nationalPark</th>\n",
              "            <th>unitaryAuthArea</th>\n",
              "        </tr>\n",
              "    </thead>\n",
              "    <tbody>\n",
              "        <tr>\n",
              "            <td>3</td>\n",
              "            <td>Southampton Airport</td>\n",
              "            <td>None</td>\n",
              "            <td>None</td>\n",
              "            <td>se</td>\n",
              "            <td>South East</td>\n",
              "            <td>50.9503</td>\n",
              "            <td>-1.3567</td>\n",
              "            <td>Europe</td>\n",
              "            <td>11.0</td>\n",
              "            <td></td>\n",
              "            <td>Hampshire</td>\n",
              "        </tr>\n",
              "        <tr>\n",
              "            <td>5</td>\n",
              "            <td>London City Airport</td>\n",
              "            <td>None</td>\n",
              "            <td>None</td>\n",
              "            <td>se</td>\n",
              "            <td>South East</td>\n",
              "            <td>51.5048</td>\n",
              "            <td>0.058</td>\n",
              "            <td>Europe</td>\n",
              "            <td>5.0</td>\n",
              "            <td></td>\n",
              "            <td>Greater London</td>\n",
              "        </tr>\n",
              "        <tr>\n",
              "            <td>6</td>\n",
              "            <td>Lydd</td>\n",
              "            <td>None</td>\n",
              "            <td>None</td>\n",
              "            <td>se</td>\n",
              "            <td>South East</td>\n",
              "            <td>50.9561</td>\n",
              "            <td>0.9392</td>\n",
              "            <td>Europe</td>\n",
              "            <td>4.0</td>\n",
              "            <td></td>\n",
              "            <td>Kent</td>\n",
              "        </tr>\n",
              "        <tr>\n",
              "            <td>349</td>\n",
              "            <td>Dungeness B</td>\n",
              "            <td>None</td>\n",
              "            <td>None</td>\n",
              "            <td>se</td>\n",
              "            <td>South East</td>\n",
              "            <td>50.9134</td>\n",
              "            <td>0.9597</td>\n",
              "            <td>Europe</td>\n",
              "            <td>5.0</td>\n",
              "            <td></td>\n",
              "            <td>Kent</td>\n",
              "        </tr>\n",
              "        <tr>\n",
              "            <td>3707</td>\n",
              "            <td>Chivenor</td>\n",
              "            <td>None</td>\n",
              "            <td>None</td>\n",
              "            <td>sw</td>\n",
              "            <td>South West</td>\n",
              "            <td>51.089</td>\n",
              "            <td>-4.149</td>\n",
              "            <td>Europe</td>\n",
              "            <td>6.0</td>\n",
              "            <td></td>\n",
              "            <td>Devon</td>\n",
              "        </tr>\n",
              "        <tr>\n",
              "            <td>3710</td>\n",
              "            <td>Liscombe</td>\n",
              "            <td>None</td>\n",
              "            <td>None</td>\n",
              "            <td>sw</td>\n",
              "            <td>South West</td>\n",
              "            <td>51.087</td>\n",
              "            <td>-3.608</td>\n",
              "            <td>Europe</td>\n",
              "            <td>348.0</td>\n",
              "            <td>Exmoor National Park</td>\n",
              "            <td>Somerset</td>\n",
              "        </tr>\n",
              "        <tr>\n",
              "            <td>3716</td>\n",
              "            <td>St-Athan</td>\n",
              "            <td>None</td>\n",
              "            <td>None</td>\n",
              "            <td>wl</td>\n",
              "            <td>Wales</td>\n",
              "            <td>51.405</td>\n",
              "            <td>-3.44</td>\n",
              "            <td>Europe</td>\n",
              "            <td>49.0</td>\n",
              "            <td></td>\n",
              "            <td>Vale of Glamorgan</td>\n",
              "        </tr>\n",
              "        <tr>\n",
              "            <td>3740</td>\n",
              "            <td>Lyneham</td>\n",
              "            <td>None</td>\n",
              "            <td>None</td>\n",
              "            <td>sw</td>\n",
              "            <td>South West</td>\n",
              "            <td>51.5031</td>\n",
              "            <td>-1.9924</td>\n",
              "            <td>Europe</td>\n",
              "            <td>145.0</td>\n",
              "            <td></td>\n",
              "            <td>Wiltshire</td>\n",
              "        </tr>\n",
              "        <tr>\n",
              "            <td>3743</td>\n",
              "            <td>Larkhill</td>\n",
              "            <td>None</td>\n",
              "            <td>None</td>\n",
              "            <td>sw</td>\n",
              "            <td>South West</td>\n",
              "            <td>51.201</td>\n",
              "            <td>-1.805</td>\n",
              "            <td>Europe</td>\n",
              "            <td>132.0</td>\n",
              "            <td></td>\n",
              "            <td>Wiltshire</td>\n",
              "        </tr>\n",
              "        <tr>\n",
              "            <td>3746</td>\n",
              "            <td>Boscombe Down</td>\n",
              "            <td>None</td>\n",
              "            <td>None</td>\n",
              "            <td>sw</td>\n",
              "            <td>South West</td>\n",
              "            <td>51.161</td>\n",
              "            <td>-1.754</td>\n",
              "            <td>Europe</td>\n",
              "            <td>126.0</td>\n",
              "            <td></td>\n",
              "            <td>Wiltshire</td>\n",
              "        </tr>\n",
              "    </tbody>\n",
              "</table>"
            ]
          },
          "metadata": {},
          "execution_count": 28
        }
      ]
    },
    {
      "cell_type": "markdown",
      "source": [
        "## Exercise 2\n",
        "Working on the table `metoffice_dailyweatherdata`. Return a resulting table that contain 5 columns: `LocationID`, `obs_datetime`, `temperature`, `windspeed`, and `windchill`.\n",
        "\n",
        "The first four columns can be taken from `metoffice_dailyweatherdata` directly. The `windchill` should computed following from the formula below:\n",
        "\n",
        "$Windchill$ = $13.12 + 0.6215 \\times  Temperature − 11.37 \\times (Wind Speed)^{0.16} + 0.3965 \\times Temperature \\times Wind speed ^{0.16}$\n",
        "Note: The function for x raised to the power of y, $x^y$, is `POW(x,y)`\n",
        "\n",
        "### Hint\n",
        "- Tables: “metoffice_dailyweatherdata”\n",
        "- Information:\n",
        "  + SELECT ...: LocationID, obs_datetime, temperature, windspeed, and windchill\n",
        "- Conditions: no\n"
      ],
      "metadata": {
        "id": "wb8CqIcjJ9h5"
      }
    },
    {
      "cell_type": "code",
      "source": [
        "%%sql\n",
        "SELECT LocationID, obs_dateTime, temperature, windspeed,\n",
        "    13.12 + 0.6215 * temperature - 11.37 * POW(windspeed, 0.16)\n",
        "    + 0.3965 * temperature * POW(windspeed, 0.16) AS windchill\n",
        "FROM metoffice_dailyweatherdata LIMIT 10;"
      ],
      "metadata": {
        "colab": {
          "base_uri": "https://localhost:8080/",
          "height": 289
        },
        "id": "cJF67UgOKLlX",
        "outputId": "c8eff129-f08b-4ee8-ec49-0523cf864e53"
      },
      "execution_count": null,
      "outputs": [
        {
          "output_type": "stream",
          "name": "stdout",
          "text": [
            " * sqlite:///weather.db\n",
            "Done.\n"
          ]
        },
        {
          "output_type": "execute_result",
          "data": {
            "text/plain": [
              "[(3002, '2020-01-01 00:00:00', 7.5, 21, 4.115280457706902),\n",
              " (3002, '2020-01-01 01:00:00', 7.5, 22, 4.013182382060215),\n",
              " (3002, '2020-01-01 02:00:00', 7.9, 24, 4.332481666637042),\n",
              " (3002, '2020-01-01 03:00:00', 7.5, 23, 3.914910949590676),\n",
              " (3002, '2020-01-01 04:00:00', 8.0, 18, 5.073782751260369),\n",
              " (3002, '2020-01-01 05:00:00', 8.3, 24, 4.844797971368533),\n",
              " (3005, '2020-01-01 00:00:00', 6.9, 33, 2.3012251033999798),\n",
              " (3005, '2020-01-01 01:00:00', 6.9, 36, 2.0894355980342016),\n",
              " (3005, '2020-01-01 02:00:00', 6.9, 32, 2.3754217078335405),\n",
              " (3005, '2020-01-01 03:00:00', 7.4, 34, 2.8881814551016296)]"
            ],
            "text/html": [
              "<table>\n",
              "    <thead>\n",
              "        <tr>\n",
              "            <th>LocationId</th>\n",
              "            <th>obs_dateTime</th>\n",
              "            <th>temperature</th>\n",
              "            <th>windspeed</th>\n",
              "            <th>windchill</th>\n",
              "        </tr>\n",
              "    </thead>\n",
              "    <tbody>\n",
              "        <tr>\n",
              "            <td>3002</td>\n",
              "            <td>2020-01-01 00:00:00</td>\n",
              "            <td>7.5</td>\n",
              "            <td>21</td>\n",
              "            <td>4.115280457706902</td>\n",
              "        </tr>\n",
              "        <tr>\n",
              "            <td>3002</td>\n",
              "            <td>2020-01-01 01:00:00</td>\n",
              "            <td>7.5</td>\n",
              "            <td>22</td>\n",
              "            <td>4.013182382060215</td>\n",
              "        </tr>\n",
              "        <tr>\n",
              "            <td>3002</td>\n",
              "            <td>2020-01-01 02:00:00</td>\n",
              "            <td>7.9</td>\n",
              "            <td>24</td>\n",
              "            <td>4.332481666637042</td>\n",
              "        </tr>\n",
              "        <tr>\n",
              "            <td>3002</td>\n",
              "            <td>2020-01-01 03:00:00</td>\n",
              "            <td>7.5</td>\n",
              "            <td>23</td>\n",
              "            <td>3.914910949590676</td>\n",
              "        </tr>\n",
              "        <tr>\n",
              "            <td>3002</td>\n",
              "            <td>2020-01-01 04:00:00</td>\n",
              "            <td>8.0</td>\n",
              "            <td>18</td>\n",
              "            <td>5.073782751260369</td>\n",
              "        </tr>\n",
              "        <tr>\n",
              "            <td>3002</td>\n",
              "            <td>2020-01-01 05:00:00</td>\n",
              "            <td>8.3</td>\n",
              "            <td>24</td>\n",
              "            <td>4.844797971368533</td>\n",
              "        </tr>\n",
              "        <tr>\n",
              "            <td>3005</td>\n",
              "            <td>2020-01-01 00:00:00</td>\n",
              "            <td>6.9</td>\n",
              "            <td>33</td>\n",
              "            <td>2.3012251033999798</td>\n",
              "        </tr>\n",
              "        <tr>\n",
              "            <td>3005</td>\n",
              "            <td>2020-01-01 01:00:00</td>\n",
              "            <td>6.9</td>\n",
              "            <td>36</td>\n",
              "            <td>2.0894355980342016</td>\n",
              "        </tr>\n",
              "        <tr>\n",
              "            <td>3005</td>\n",
              "            <td>2020-01-01 02:00:00</td>\n",
              "            <td>6.9</td>\n",
              "            <td>32</td>\n",
              "            <td>2.3754217078335405</td>\n",
              "        </tr>\n",
              "        <tr>\n",
              "            <td>3005</td>\n",
              "            <td>2020-01-01 03:00:00</td>\n",
              "            <td>7.4</td>\n",
              "            <td>34</td>\n",
              "            <td>2.8881814551016296</td>\n",
              "        </tr>\n",
              "    </tbody>\n",
              "</table>"
            ]
          },
          "metadata": {},
          "execution_count": 32
        }
      ]
    },
    {
      "cell_type": "markdown",
      "source": [
        "## Exercise 3\n",
        "Working on the table \"zones\". Find out those zone names (`zone_name`) which contain more than two details (delimited by /).\n",
        "Examples records: `America/Indiana/Marengo`\n",
        "\n",
        "### Hint\n",
        "- Step 1: find out those records with “zone_name” contain more than two details and tag a 0/1 flag (checkup). The resulting table contains the “zone_name” and “checkup”. (You can use REGEXP '^[_a-zA-Z_]+/[_a-zA-Z_]+/' search the whole alphabet and the underscore character, e.g. North_Dakota.)\n",
        "- Step 2: working on the table obtained from step 1. (Put the sql command of step 1 in the FROM statement.) filtering those “zone_name” with “checkup” equal to 1."
      ],
      "metadata": {
        "id": "UnSypL9vK9Nc"
      }
    },
    {
      "cell_type": "code",
      "source": [
        "%%sql\n",
        "SELECT zone_name\n",
        "FROM (select zone_name,\n",
        "      zone_name REGEXP  '^[_a-zA-Z]+/[_a-zA-Z]+/'\n",
        "        AS checkup\n",
        "      FROM zones)\n",
        "WHERE checkup = 1;"
      ],
      "metadata": {
        "colab": {
          "base_uri": "https://localhost:8080/",
          "height": 610
        },
        "id": "8ALaFHy2MaX4",
        "outputId": "2a7dd75c-b67c-4ca6-8724-b6146b6e6e4f"
      },
      "execution_count": null,
      "outputs": [
        {
          "output_type": "stream",
          "name": "stdout",
          "text": [
            " * sqlite:///weather.db\n",
            "Done.\n"
          ]
        },
        {
          "output_type": "execute_result",
          "data": {
            "text/plain": [
              "[('America/Argentina/Buenos_Aires',),\n",
              " ('America/Argentina/Catamarca',),\n",
              " ('America/Argentina/Cordoba',),\n",
              " ('America/Argentina/Jujuy',),\n",
              " ('America/Argentina/La_Rioja',),\n",
              " ('America/Argentina/Mendoza',),\n",
              " ('America/Argentina/Rio_Gallegos',),\n",
              " ('America/Argentina/Salta',),\n",
              " ('America/Argentina/San_Juan',),\n",
              " ('America/Argentina/San_Luis',),\n",
              " ('America/Argentina/Tucuman',),\n",
              " ('America/Argentina/Ushuaia',),\n",
              " ('America/Indiana/Indianapolis',),\n",
              " ('America/Indiana/Knox',),\n",
              " ('America/Indiana/Marengo',),\n",
              " ('America/Indiana/Petersburg',),\n",
              " ('America/Indiana/Tell_City',),\n",
              " ('America/Indiana/Vevay',),\n",
              " ('America/Indiana/Vincennes',),\n",
              " ('America/Indiana/Winamac',),\n",
              " ('America/Kentucky/Louisville',),\n",
              " ('America/Kentucky/Monticello',),\n",
              " ('America/North_Dakota/Beulah',),\n",
              " ('America/North_Dakota/Center',),\n",
              " ('America/North_Dakota/New_Salem',)]"
            ],
            "text/html": [
              "<table>\n",
              "    <thead>\n",
              "        <tr>\n",
              "            <th>zone_name</th>\n",
              "        </tr>\n",
              "    </thead>\n",
              "    <tbody>\n",
              "        <tr>\n",
              "            <td>America/Argentina/Buenos_Aires</td>\n",
              "        </tr>\n",
              "        <tr>\n",
              "            <td>America/Argentina/Catamarca</td>\n",
              "        </tr>\n",
              "        <tr>\n",
              "            <td>America/Argentina/Cordoba</td>\n",
              "        </tr>\n",
              "        <tr>\n",
              "            <td>America/Argentina/Jujuy</td>\n",
              "        </tr>\n",
              "        <tr>\n",
              "            <td>America/Argentina/La_Rioja</td>\n",
              "        </tr>\n",
              "        <tr>\n",
              "            <td>America/Argentina/Mendoza</td>\n",
              "        </tr>\n",
              "        <tr>\n",
              "            <td>America/Argentina/Rio_Gallegos</td>\n",
              "        </tr>\n",
              "        <tr>\n",
              "            <td>America/Argentina/Salta</td>\n",
              "        </tr>\n",
              "        <tr>\n",
              "            <td>America/Argentina/San_Juan</td>\n",
              "        </tr>\n",
              "        <tr>\n",
              "            <td>America/Argentina/San_Luis</td>\n",
              "        </tr>\n",
              "        <tr>\n",
              "            <td>America/Argentina/Tucuman</td>\n",
              "        </tr>\n",
              "        <tr>\n",
              "            <td>America/Argentina/Ushuaia</td>\n",
              "        </tr>\n",
              "        <tr>\n",
              "            <td>America/Indiana/Indianapolis</td>\n",
              "        </tr>\n",
              "        <tr>\n",
              "            <td>America/Indiana/Knox</td>\n",
              "        </tr>\n",
              "        <tr>\n",
              "            <td>America/Indiana/Marengo</td>\n",
              "        </tr>\n",
              "        <tr>\n",
              "            <td>America/Indiana/Petersburg</td>\n",
              "        </tr>\n",
              "        <tr>\n",
              "            <td>America/Indiana/Tell_City</td>\n",
              "        </tr>\n",
              "        <tr>\n",
              "            <td>America/Indiana/Vevay</td>\n",
              "        </tr>\n",
              "        <tr>\n",
              "            <td>America/Indiana/Vincennes</td>\n",
              "        </tr>\n",
              "        <tr>\n",
              "            <td>America/Indiana/Winamac</td>\n",
              "        </tr>\n",
              "        <tr>\n",
              "            <td>America/Kentucky/Louisville</td>\n",
              "        </tr>\n",
              "        <tr>\n",
              "            <td>America/Kentucky/Monticello</td>\n",
              "        </tr>\n",
              "        <tr>\n",
              "            <td>America/North_Dakota/Beulah</td>\n",
              "        </tr>\n",
              "        <tr>\n",
              "            <td>America/North_Dakota/Center</td>\n",
              "        </tr>\n",
              "        <tr>\n",
              "            <td>America/North_Dakota/New_Salem</td>\n",
              "        </tr>\n",
              "    </tbody>\n",
              "</table>"
            ]
          },
          "metadata": {},
          "execution_count": 2
        }
      ]
    },
    {
      "cell_type": "markdown",
      "source": [
        "## Exercice 4\n",
        "Working on the table “metoffice_dailyweatherdata”. Return one column which computes the difference between temperature and the average temperature. (temperature minus the average temperature)\n",
        "\n",
        "### Hint\n",
        "- Step 1: compute the average temperature based on the table metoffice_dailyweatherdata. (nest the sql command in the SELECT statement)\n",
        "- Step 2: compute the temperature minus the average temperature (obtained from step 1), and return the final values.\n"
      ],
      "metadata": {
        "id": "gn0SXqJANHBv"
      }
    },
    {
      "cell_type": "code",
      "source": [
        "%%sql\n",
        "SELECT temperature - (\n",
        "  SELECT AVG(temperature)\n",
        "    FROM metoffice_dailyweatherdata)\n",
        "FROM metoffice_dailyweatherdata LIMIT 10;"
      ],
      "metadata": {
        "colab": {
          "base_uri": "https://localhost:8080/",
          "height": 323
        },
        "id": "YVmCqa08NO8V",
        "outputId": "a5e78501-c819-426e-92ac-76309e4c31da"
      },
      "execution_count": null,
      "outputs": [
        {
          "output_type": "stream",
          "name": "stdout",
          "text": [
            " * sqlite:///weather.db\n",
            "Done.\n"
          ]
        },
        {
          "output_type": "execute_result",
          "data": {
            "text/plain": [
              "[(0.7983399999999747,),\n",
              " (0.7983399999999747,),\n",
              " (1.198339999999975,),\n",
              " (0.7983399999999747,),\n",
              " (1.2983399999999747,),\n",
              " (1.5983399999999754,),\n",
              " (0.1983399999999751,),\n",
              " (0.1983399999999751,),\n",
              " (0.1983399999999751,),\n",
              " (0.6983399999999751,)]"
            ],
            "text/html": [
              "<table>\n",
              "    <thead>\n",
              "        <tr>\n",
              "            <th>temperature - (<br>  SELECT AVG(temperature)<br>    FROM metoffice_dailyweatherdata)</th>\n",
              "        </tr>\n",
              "    </thead>\n",
              "    <tbody>\n",
              "        <tr>\n",
              "            <td>0.7983399999999747</td>\n",
              "        </tr>\n",
              "        <tr>\n",
              "            <td>0.7983399999999747</td>\n",
              "        </tr>\n",
              "        <tr>\n",
              "            <td>1.198339999999975</td>\n",
              "        </tr>\n",
              "        <tr>\n",
              "            <td>0.7983399999999747</td>\n",
              "        </tr>\n",
              "        <tr>\n",
              "            <td>1.2983399999999747</td>\n",
              "        </tr>\n",
              "        <tr>\n",
              "            <td>1.5983399999999754</td>\n",
              "        </tr>\n",
              "        <tr>\n",
              "            <td>0.1983399999999751</td>\n",
              "        </tr>\n",
              "        <tr>\n",
              "            <td>0.1983399999999751</td>\n",
              "        </tr>\n",
              "        <tr>\n",
              "            <td>0.1983399999999751</td>\n",
              "        </tr>\n",
              "        <tr>\n",
              "            <td>0.6983399999999751</td>\n",
              "        </tr>\n",
              "    </tbody>\n",
              "</table>"
            ]
          },
          "metadata": {},
          "execution_count": 36
        }
      ]
    }
  ]
}