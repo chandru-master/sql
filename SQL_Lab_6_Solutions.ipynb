{
  "nbformat": 4,
  "nbformat_minor": 0,
  "metadata": {
    "colab": {
      "provenance": [],
      "toc_visible": true
    },
    "kernelspec": {
      "name": "python3",
      "display_name": "Python 3"
    },
    "language_info": {
      "name": "python"
    }
  },
  "cells": [
    {
      "cell_type": "markdown",
      "source": [
        "# Setting up the Weather database\n",
        "\n",
        "We need to download the database first by using the following code in a *code block*. We also upgrade the version of the SQL database (SQLite) as well as we install the `RSQLite` R library.\n",
        "We can run the code by pressing the \"▶\" play button. This needs to be run once at the begining of the session.\n",
        "\n",
        "\n"
      ],
      "metadata": {
        "id": "OCtTWGYkkl5j"
      }
    },
    {
      "cell_type": "code",
      "execution_count": null,
      "metadata": {
        "id": "802CfVXHZ36C",
        "colab": {
          "base_uri": "https://localhost:8080/"
        },
        "outputId": "e5b3c466-8c24-4344-d9c6-731e935e2e15"
      },
      "outputs": [
        {
          "output_type": "stream",
          "name": "stdout",
          "text": [
            "debconf: unable to initialize frontend: Dialog\n",
            "debconf: (No usable dialog-like program is installed, so the dialog based frontend cannot be used. at /usr/share/perl5/Debconf/FrontEnd/Dialog.pm line 78, <> line 3.)\n",
            "debconf: falling back to frontend: Readline\n",
            "debconf: unable to initialize frontend: Readline\n",
            "debconf: (This frontend requires a controlling tty.)\n",
            "debconf: falling back to frontend: Teletype\n",
            "dpkg-preconfigure: unable to re-open stdin: \n"
          ]
        }
      ],
      "source": [
        "!wget https://essexuniversity.box.com/shared/static/c3vee0c2iclzc9wouhblr9jp5v7lix0o.db -O weather.db &> /dev/null\n",
        "#!sudo sudo add-apt-repository -y ppa:linuxgndu/sqlitebrowser >/dev/null\n",
        "#!sudo apt update > /dev/null\n",
        "!sudo apt-get install -y sqlite3 r-cran-rsqlite >/dev/null\n",
        "#!sqlite3 --version\n",
        "#!pip install rpy2==3.5.1\n",
        "#!pip install sqlalchemy==1.4.47\n",
        "#import os\n",
        "#os._exit(00)"
      ]
    },
    {
      "cell_type": "markdown",
      "source": [
        "In order to issue **R commands** we will use the SQLite capabilities of Google Colab by loading the SQL extension with the statement `%load_ext rpy2.ipython`:\n",
        "\n",
        "\n",
        "\n",
        "\n",
        "\n"
      ],
      "metadata": {
        "id": "qR9pTQP_lMek"
      }
    },
    {
      "cell_type": "code",
      "source": [
        "# now we can use the magic extension to connect to R\n",
        "%load_ext rpy2.ipython"
      ],
      "metadata": {
        "id": "PJ4DfKFAl61U"
      },
      "execution_count": null,
      "outputs": []
    },
    {
      "cell_type": "markdown",
      "source": [
        "Then we can run R queries by using:\n",
        "- the `%R` expression for a single line query\n",
        "- the `%%R` expression for a multiple line query"
      ],
      "metadata": {
        "id": "4QfrX3cUfAIJ"
      }
    },
    {
      "cell_type": "code",
      "source": [
        "%%R\n",
        "R.version.string"
      ],
      "metadata": {
        "colab": {
          "base_uri": "https://localhost:8080/"
        },
        "id": "1dTEn6lfpgvU",
        "outputId": "5808c05f-8341-4ab3-b0e3-2c05f189d4a2"
      },
      "execution_count": null,
      "outputs": [
        {
          "output_type": "stream",
          "name": "stdout",
          "text": [
            "[1] \"R version 4.3.2 (2023-10-31)\"\n"
          ]
        }
      ]
    },
    {
      "cell_type": "markdown",
      "source": [
        "# Working with R and SQL"
      ],
      "metadata": {
        "id": "ONpAhgc0aEUa"
      }
    },
    {
      "cell_type": "markdown",
      "source": [
        "### Connect to the database from R\n",
        "We will use the `DBI` and `RSQLite` Rlibraries (which we have previously installed) to connect to our \"weather.db\" sqlite database. The command `DBListTables` lists the known tables."
      ],
      "metadata": {
        "id": "xtxPVOqAmbc_"
      }
    },
    {
      "cell_type": "code",
      "source": [
        "%%R\n",
        "library(DBI)\n",
        "library(RSQLite)\n",
        "dbcon <- dbConnect(RSQLite::SQLite(), \"weather.db\")\n",
        "dbListTables(dbcon)\n"
      ],
      "metadata": {
        "colab": {
          "base_uri": "https://localhost:8080/"
        },
        "id": "bR3ENlm3EE2o",
        "outputId": "7fdfdd40-8062-4d11-a322-c131b0021373"
      },
      "execution_count": null,
      "outputs": [
        {
          "output_type": "stream",
          "name": "stdout",
          "text": [
            " [1] \"cat_locations\"              \"cat_postcode_latlong\"      \n",
            " [3] \"cat_regions\"                \"country\"                   \n",
            " [5] \"metoffice_dailyweatherdata\" \"metoffice_forecast_text\"   \n",
            " [7] \"postcodelatlng\"             \"sqlite_sequence\"           \n",
            " [9] \"tempW\"                      \"timezone\"                  \n",
            "[11] \"weatherType\"                \"zones\"                     \n"
          ]
        }
      ]
    },
    {
      "cell_type": "code",
      "source": [],
      "metadata": {
        "id": "K91LX4GnF7Ac"
      },
      "execution_count": null,
      "outputs": []
    },
    {
      "cell_type": "markdown",
      "source": [
        "- `dbListFields(Connection_name,Table_name)` Lists the attributes of atable\n",
        "- `dbReadTable` reads a table as a `data.frame`."
      ],
      "metadata": {
        "id": "XIU5RW93Flvi"
      }
    },
    {
      "cell_type": "code",
      "source": [
        "%%R\n",
        "dbListFields(dbcon,\"metoffice_dailyweatherdata\")\n",
        "dftempw <- dbReadTable(dbcon,\"tempW\")\n",
        "print(class(dftempw)) # we extracted the tempW table as dataframe\n",
        "summary(dftempw) # numerical summaries for each attribute"
      ],
      "metadata": {
        "colab": {
          "base_uri": "https://localhost:8080/"
        },
        "id": "3dcXwJg2F04q",
        "outputId": "aa39967a-5da6-493a-f4e0-a04b89f18a3d"
      },
      "execution_count": null,
      "outputs": [
        {
          "output_type": "stream",
          "name": "stdout",
          "text": [
            "[1] \"data.frame\"\n",
            "   LocationId   obs_dateTime         obs_date           obs_time        \n",
            " Min.   :3002   Length:16          Length:16          Length:16         \n",
            " 1st Qu.:3504   Class :character   Class :character   Class :character  \n",
            " Median :3672   Mode  :character   Mode  :character   Mode  :character  \n",
            " Mean   :3504                                                           \n",
            " 3rd Qu.:3672                                                           \n",
            " Max.   :3672                                                           \n",
            "                                                                        \n",
            "  temperature      windspeed        humidity        dewpoint   \n",
            " Min.   :4.500   Min.   : 2.00   Min.   :71.70   Min.   :0.00  \n",
            " 1st Qu.:5.450   1st Qu.: 4.50   1st Qu.:87.38   1st Qu.:0.00  \n",
            " Median :6.400   Median : 6.00   Median :91.80   Median :0.00  \n",
            " Mean   :6.231   Mean   :10.31   Mean   :88.82   Mean   :1.00  \n",
            " 3rd Qu.:6.725   3rd Qu.:10.75   3rd Qu.:93.95   3rd Qu.:0.75  \n",
            " Max.   :8.300   Max.   :31.00   Max.   :95.50   Max.   :5.00  \n",
            "                                                               \n",
            "    pressure         windgust        visibility    winddirection     \n",
            " Min.   :   0.0   Min.   : 0.000   Min.   :    0   Length:16         \n",
            " 1st Qu.:   0.0   1st Qu.: 0.000   1st Qu.:    0   Class :character  \n",
            " Median :   0.0   Median : 0.000   Median :    0   Mode  :character  \n",
            " Mean   : 251.4   Mean   : 9.438   Mean   : 4000                     \n",
            " 3rd Qu.: 251.2   3rd Qu.: 8.000   3rd Qu.: 2750                     \n",
            " Max.   :1007.0   Max.   :41.000   Max.   :27000                     \n",
            "                                                                     \n",
            " pressuretendency     rainfall           radiation  timestamp        \n",
            " Length:16          Length:16          Min.   :0   Length:16         \n",
            " Class :character   Class :character   1st Qu.:0   Class :character  \n",
            " Mode  :character   Mode  :character   Median :0   Mode  :character  \n",
            "                                       Mean   :0                     \n",
            "                                       3rd Qu.:0                     \n",
            "                                       Max.   :0                     \n",
            "                                       NA's   :4                     \n"
          ]
        }
      ]
    },
    {
      "cell_type": "markdown",
      "source": [
        "## Copying R Data frames to a Database\n",
        "we can use the `dbWriteTable` function to create a database table from R (data frame). We will use one of the tables (`mtcars`) that exist in R\n",
        "- `dbWriteTable(Connection_name,“table_name\", data_frame)`"
      ],
      "metadata": {
        "id": "-oQT-yibdPjI"
      }
    },
    {
      "cell_type": "code",
      "source": [
        "%%R\n",
        "data(mtcars)\n",
        "head(mtcars) # print the first few rows"
      ],
      "metadata": {
        "colab": {
          "base_uri": "https://localhost:8080/"
        },
        "id": "B95MDP9CdjeO",
        "outputId": "030a92b8-6c4d-45c8-effd-79592766f4ca"
      },
      "execution_count": null,
      "outputs": [
        {
          "output_type": "stream",
          "name": "stdout",
          "text": [
            "                   mpg cyl disp  hp drat    wt  qsec vs am gear carb\n",
            "Mazda RX4         21.0   6  160 110 3.90 2.620 16.46  0  1    4    4\n",
            "Mazda RX4 Wag     21.0   6  160 110 3.90 2.875 17.02  0  1    4    4\n",
            "Datsun 710        22.8   4  108  93 3.85 2.320 18.61  1  1    4    1\n",
            "Hornet 4 Drive    21.4   6  258 110 3.08 3.215 19.44  1  0    3    1\n",
            "Hornet Sportabout 18.7   8  360 175 3.15 3.440 17.02  0  0    3    2\n",
            "Valiant           18.1   6  225 105 2.76 3.460 20.22  1  0    3    1\n"
          ]
        }
      ]
    },
    {
      "cell_type": "code",
      "source": [
        "%%R\n",
        "dbWriteTable(dbcon,\"mtcars\",mtcars) # writes the dataframe to the database\n",
        "dfcars <- dbReadTable(dbcon,\"mtcars\") # read the table from the database\n",
        "summary(dfcars) # produce numerical summaries"
      ],
      "metadata": {
        "colab": {
          "base_uri": "https://localhost:8080/"
        },
        "id": "6JsJaoC0eGvd",
        "outputId": "d70c077a-2444-480a-cad1-82d5b1f3a5c9"
      },
      "execution_count": null,
      "outputs": [
        {
          "output_type": "stream",
          "name": "stdout",
          "text": [
            "      mpg             cyl             disp             hp       \n",
            " Min.   :10.40   Min.   :4.000   Min.   : 71.1   Min.   : 52.0  \n",
            " 1st Qu.:15.43   1st Qu.:4.000   1st Qu.:120.8   1st Qu.: 96.5  \n",
            " Median :19.20   Median :6.000   Median :196.3   Median :123.0  \n",
            " Mean   :20.09   Mean   :6.188   Mean   :230.7   Mean   :146.7  \n",
            " 3rd Qu.:22.80   3rd Qu.:8.000   3rd Qu.:326.0   3rd Qu.:180.0  \n",
            " Max.   :33.90   Max.   :8.000   Max.   :472.0   Max.   :335.0  \n",
            "      drat             wt             qsec             vs        \n",
            " Min.   :2.760   Min.   :1.513   Min.   :14.50   Min.   :0.0000  \n",
            " 1st Qu.:3.080   1st Qu.:2.581   1st Qu.:16.89   1st Qu.:0.0000  \n",
            " Median :3.695   Median :3.325   Median :17.71   Median :0.0000  \n",
            " Mean   :3.597   Mean   :3.217   Mean   :17.85   Mean   :0.4375  \n",
            " 3rd Qu.:3.920   3rd Qu.:3.610   3rd Qu.:18.90   3rd Qu.:1.0000  \n",
            " Max.   :4.930   Max.   :5.424   Max.   :22.90   Max.   :1.0000  \n",
            "       am              gear            carb      \n",
            " Min.   :0.0000   Min.   :3.000   Min.   :1.000  \n",
            " 1st Qu.:0.0000   1st Qu.:3.000   1st Qu.:2.000  \n",
            " Median :0.0000   Median :4.000   Median :2.000  \n",
            " Mean   :0.4062   Mean   :3.688   Mean   :2.812  \n",
            " 3rd Qu.:1.0000   3rd Qu.:4.000   3rd Qu.:4.000  \n",
            " Max.   :1.0000   Max.   :5.000   Max.   :8.000  \n"
          ]
        }
      ]
    },
    {
      "cell_type": "markdown",
      "source": [
        "## Removing a table\n",
        "- We can check if a table exists in the database with `dbExistsTable(Connection_name,\"table_name\")`\n",
        "- we can remove a table using the `dbRemoveTable(connection_name, \"table_name\")` function:"
      ],
      "metadata": {
        "id": "BqZNIU1refNS"
      }
    },
    {
      "cell_type": "code",
      "source": [
        "%%R\n",
        "## if the table exists remove it\n",
        "if(dbExistsTable(dbcon,\"mtcars\")){\n",
        "  dbRemoveTable(dbcon, \"mtcars\")\n",
        "}else{\n",
        "  print(\"Table does not exist\")\n",
        "}\n"
      ],
      "metadata": {
        "id": "746TcReHeoQ_"
      },
      "execution_count": null,
      "outputs": []
    },
    {
      "cell_type": "markdown",
      "source": [
        "## Running SQL queries\n",
        "We can run SQL queries with `dbSendQuery` and with `dbFetch` we can fetch all the results. Finally we can disconnect the database with `dbDisconnect`."
      ],
      "metadata": {
        "id": "_hiWVNchGvhQ"
      }
    },
    {
      "cell_type": "code",
      "source": [
        "%%R\n",
        "res<-dbSendQuery(dbcon,\"SELECT * FROM metoffice_dailyweatherdata WHERE LocationId='3002'\")\n",
        "dfres<-dbFetch(res)\n",
        "summary(dfres)"
      ],
      "metadata": {
        "colab": {
          "base_uri": "https://localhost:8080/"
        },
        "id": "TtflLXJaHDYw",
        "outputId": "3715678c-4e8a-479f-b226-28e06874ef1e"
      },
      "execution_count": null,
      "outputs": [
        {
          "output_type": "stream",
          "name": "stdout",
          "text": [
            "   LocationId   obs_dateTime         obs_date           obs_time        \n",
            " Min.   :3002   Length:79          Length:79          Length:79         \n",
            " 1st Qu.:3002   Class :character   Class :character   Class :character  \n",
            " Median :3002   Mode  :character   Mode  :character   Mode  :character  \n",
            " Mean   :3002                                                           \n",
            " 3rd Qu.:3002                                                           \n",
            " Max.   :3002                                                           \n",
            "  temperature      windspeed        humidity        dewpoint     \n",
            " Min.   :1.400   Min.   :18.00   Min.   :49.20   Min.   :-6.200  \n",
            " 1st Qu.:3.200   1st Qu.:24.00   1st Qu.:73.95   1st Qu.:-0.650  \n",
            " Median :7.500   Median :28.00   Median :83.30   Median : 4.900  \n",
            " Mean   :6.254   Mean   :28.71   Mean   :79.06   Mean   : 2.816  \n",
            " 3rd Qu.:8.900   3rd Qu.:32.00   3rd Qu.:86.25   3rd Qu.: 6.600  \n",
            " Max.   :9.800   Max.   :45.00   Max.   :94.60   Max.   : 7.500  \n",
            "    pressure       windgust       visibility    winddirection     \n",
            " Min.   : 986   Min.   :29.00   Min.   : 2600   Length:79         \n",
            " 1st Qu.: 994   1st Qu.:37.00   1st Qu.:11000   Class :character  \n",
            " Median :1001   Median :41.00   Median :13000   Mode  :character  \n",
            " Mean   :1002   Mean   :43.92   Mean   :14615                     \n",
            " 3rd Qu.:1010   3rd Qu.:47.50   3rd Qu.:18000                     \n",
            " Max.   :1018   Max.   :66.00   Max.   :30000                     \n",
            " pressuretendency    timestamp            rainy              windy          \n",
            " Length:79          Length:79          Length:79          Length:79         \n",
            " Class :character   Class :character   Class :character   Class :character  \n",
            " Mode  :character   Mode  :character   Mode  :character   Mode  :character  \n",
            "                                                                            \n",
            "                                                                            \n",
            "                                                                            \n",
            "     snow           weatherType       \n",
            " Length:79          Length:79         \n",
            " Class :character   Class :character  \n",
            " Mode  :character   Mode  :character  \n",
            "                                      \n",
            "                                      \n",
            "                                      \n"
          ]
        }
      ]
    },
    {
      "cell_type": "code",
      "source": [
        "%%R\n",
        "dbDisconnect(dbcon)"
      ],
      "metadata": {
        "id": "HsBF44qUIEyI"
      },
      "execution_count": null,
      "outputs": []
    },
    {
      "cell_type": "markdown",
      "source": [
        "## Databases with tidyverse\n",
        "We can also use a database conection with tidyverse (e.g. `%>%` pipes) using the library `dplyr`:"
      ],
      "metadata": {
        "id": "4cOwPLC1QubI"
      }
    },
    {
      "cell_type": "code",
      "source": [
        "%%R\n",
        "library(dplyr)\n",
        "tcon <- DBI::dbConnect(RSQLite::SQLite(), dbname = \"weather.db\")"
      ],
      "metadata": {
        "id": "9jk0wNx8Q6f2"
      },
      "execution_count": null,
      "outputs": []
    },
    {
      "cell_type": "markdown",
      "source": [
        "We can then make create a reference `tible` to one of the databases tables:"
      ],
      "metadata": {
        "id": "16iEl18VRQVb"
      }
    },
    {
      "cell_type": "code",
      "source": [
        "%%R\n",
        "tweather <- tbl(tcon,\"metoffice_dailyweatherdata\")\n",
        "tweather"
      ],
      "metadata": {
        "colab": {
          "base_uri": "https://localhost:8080/"
        },
        "id": "yH8EaJVpRYzN",
        "outputId": "2000050b-ace6-4dd3-fe04-35d46474861b"
      },
      "execution_count": null,
      "outputs": [
        {
          "output_type": "stream",
          "name": "stdout",
          "text": [
            "# Source:   table<metoffice_dailyweatherdata> [?? x 18]\n",
            "# Database: sqlite 3.39.4 [/content/weather.db]\n",
            "   LocationId obs_date…¹ obs_d…² obs_t…³ tempe…⁴ winds…⁵ humid…⁶ dewpo…⁷ press…⁸\n",
            "        <int> <chr>      <chr>   <chr>     <dbl>   <int>   <dbl>   <dbl>   <int>\n",
            " 1       3002 2020-01-0… 2020-0… 00:00:…     7.5      21    84       5      1018\n",
            " 2       3002 2020-01-0… 2020-0… 01:00:…     7.5      22    81.7     4.6    1018\n",
            " 3       3002 2020-01-0… 2020-0… 02:00:…     7.9      24    79.9     4.7    1017\n",
            " 4       3002 2020-01-0… 2020-0… 03:00:…     7.5      23    82.3     4.7    1016\n",
            " 5       3002 2020-01-0… 2020-0… 04:00:…     8        18    84.6     5.6    1015\n",
            " 6       3002 2020-01-0… 2020-0… 05:00:…     8.3      24    85.3     6      1015\n",
            " 7       3005 2020-01-0… 2020-0… 00:00:…     6.9      33    88.1     5.1    1019\n",
            " 8       3005 2020-01-0… 2020-0… 01:00:…     6.9      36    90.2     5.4    1018\n",
            " 9       3005 2020-01-0… 2020-0… 02:00:…     6.9      32    88.8     5.2    1018\n",
            "10       3005 2020-01-0… 2020-0… 03:00:…     7.4      34    89.4     5.8    1017\n",
            "# … with more rows, 9 more variables: windgust <int>, visibility <int>,\n",
            "#   winddirection <chr>, pressuretendency <chr>, timestamp <chr>, rainy <chr>,\n",
            "#   windy <chr>, snow <chr>, weatherType <chr>, and abbreviated variable names\n",
            "#   ¹​obs_dateTime, ²​obs_date, ³​obs_time, ⁴​temperature, ⁵​windspeed, ⁶​humidity,\n",
            "#   ⁷​dewpoint, ⁸​pressure\n",
            "# ℹ Use `print(n = ...)` to see more rows, and `colnames()` to see all variable names\n"
          ]
        }
      ]
    },
    {
      "cell_type": "code",
      "source": [
        "%%R\n",
        "## Select according to locationid and group by date to display\n",
        "## average temperature and windspeed\n",
        "tweather %>%\n",
        "    filter(LocationId==3002) %>% # selects only the records that contain Location id 3002\n",
        "    select(obs_date,temperature,windspeed) %>% # selects 3 attributes\n",
        "    group_by(obs_date) %>%  # group by diferent dates\n",
        "    summarize(AverageTemp=mean(temperature),Averagewind=mean(windspeed)) # for each group print the means"
      ],
      "metadata": {
        "colab": {
          "base_uri": "https://localhost:8080/"
        },
        "id": "BM-TFzZJR18X",
        "outputId": "14e0586a-2371-43ed-aafd-7bf53e35520a"
      },
      "execution_count": null,
      "outputs": [
        {
          "output_type": "stream",
          "name": "stdout",
          "text": [
            "# Source:   SQL [4 x 3]\n",
            "# Database: sqlite 3.39.4 [/content/weather.db]\n",
            "  obs_date   AverageTemp Averagewind\n",
            "  <chr>            <dbl>       <dbl>\n",
            "1 2020-01-01        8.57        25.8\n",
            "2 2020-01-02        8.03        27.5\n",
            "3 2020-01-03        3.22        34.1\n",
            "4 2020-01-04        2.64        24.3\n"
          ]
        }
      ]
    },
    {
      "cell_type": "markdown",
      "source": [
        "# Working with Python and SQL\n",
        "We can connect to a database by establishing a connection, in this example we used the sqlite3 driver:"
      ],
      "metadata": {
        "id": "kaD21ZAhTXbV"
      }
    },
    {
      "cell_type": "code",
      "source": [
        "import sqlite3\n",
        "con = sqlite3.connect(\"weather.db\")"
      ],
      "metadata": {
        "id": "zJVZrZNhfpgB"
      },
      "execution_count": null,
      "outputs": []
    },
    {
      "cell_type": "markdown",
      "source": [
        "In order to execute SQL statements we will need a *cursor* object:"
      ],
      "metadata": {
        "id": "D-m2IrrhgEu8"
      }
    },
    {
      "cell_type": "code",
      "source": [
        "cur = con.cursor()\n",
        "cur.execute(\"CREATE TABLE climate (LocationID INT,climate_type VARCHAR(255))\")"
      ],
      "metadata": {
        "colab": {
          "base_uri": "https://localhost:8080/"
        },
        "id": "QzpbwoUQgEJ5",
        "outputId": "62f6be70-1b0e-4361-e71b-38a9e7618203"
      },
      "execution_count": null,
      "outputs": [
        {
          "output_type": "execute_result",
          "data": {
            "text/plain": [
              "<sqlite3.Cursor at 0x7f176a67e2d0>"
            ]
          },
          "metadata": {},
          "execution_count": 31
        }
      ]
    },
    {
      "cell_type": "markdown",
      "source": [
        "### Alter table\n",
        "`cur.execute(\"ALTER TABLE table_name ADD COLUMN column_name\")`"
      ],
      "metadata": {
        "id": "Mp4jafBCgc4U"
      }
    },
    {
      "cell_type": "code",
      "source": [
        "cur.execute(\"ALTER TABLE climate ADD COLUMN climate_id INT\")"
      ],
      "metadata": {
        "colab": {
          "base_uri": "https://localhost:8080/"
        },
        "id": "XFRBq8OEgXy6",
        "outputId": "66fd6cde-f711-4abd-d242-b9c09e5fc58c"
      },
      "execution_count": null,
      "outputs": [
        {
          "output_type": "execute_result",
          "data": {
            "text/plain": [
              "<sqlite3.Cursor at 0x7f176a67e2d0>"
            ]
          },
          "metadata": {},
          "execution_count": 32
        }
      ]
    },
    {
      "cell_type": "markdown",
      "source": [
        "### Insert data into table\n",
        "```sql\n",
        "sql= \"INSERT INTO table_name (column_names) VALUES (?,?)\"\n",
        "val= (\"value1\", \"value2\")\n",
        "cur.execute(sql,val)\n",
        "con.commit()\n",
        "print(mycursor.rowcount, \"record inserted.\" )\n",
        "```"
      ],
      "metadata": {
        "id": "l-hq1wgTgqhi"
      }
    },
    {
      "cell_type": "code",
      "source": [
        "sql= \"INSERT INTO climate (LocationID,climate_type) VALUES (?,?)\"\n",
        "val= (\"5\", \"Continental\")\n",
        "cur.execute(sql,val)\n",
        "con.commit()\n",
        "print(cur.rowcount, \"record inserted.\" )"
      ],
      "metadata": {
        "colab": {
          "base_uri": "https://localhost:8080/"
        },
        "id": "SgfBH0w6g-gV",
        "outputId": "c8bd4173-9f5d-44d1-ded2-1a43962f4c11"
      },
      "execution_count": null,
      "outputs": [
        {
          "output_type": "stream",
          "name": "stdout",
          "text": [
            "1 record inserted.\n"
          ]
        }
      ]
    },
    {
      "cell_type": "markdown",
      "source": [
        "### Insert multiple rows into table\n",
        "```sql\n",
        "sql= \"INSERT INTO table_name (column_names) VALUES (?,?)\"\n",
        "val= [(\"value1\", \"value2\"), (\"value3\", \"value4\")]\n",
        "cur.executemany(sql,val)\n",
        "con.commit()\n",
        "print(mycursor.rowcount, \"records inserted.\" )\n",
        "```"
      ],
      "metadata": {
        "id": "wVUNBZuChxx6"
      }
    },
    {
      "cell_type": "code",
      "source": [
        "sql= \"INSERT INTO climate (LocationID,climate_type) VALUES (?,?)\"\n",
        "val= [(\"7\", \"Continental\"), (\"26\", \"Moderate\")]\n",
        "cur.executemany(sql,val)\n",
        "con.commit()\n",
        "print(cur.rowcount, \"record inserted.\" )"
      ],
      "metadata": {
        "colab": {
          "base_uri": "https://localhost:8080/"
        },
        "id": "6QOSxoUJhsG7",
        "outputId": "63370172-fd32-42d4-a3da-7a0c85cf43e1"
      },
      "execution_count": null,
      "outputs": [
        {
          "output_type": "stream",
          "name": "stdout",
          "text": [
            "2 record inserted.\n"
          ]
        }
      ]
    },
    {
      "cell_type": "markdown",
      "source": [
        "### Select data from a table\n",
        "```sql\n",
        "cur.execute(\"SELECT * FROM table_name\")\n",
        "myresult = cur.fetchall()\n",
        "print(myresult)\n",
        "```\n",
        "Alternatively, we can use `fetchone` function to list fetch just the first row of the query"
      ],
      "metadata": {
        "id": "94_ByxdviI3u"
      }
    },
    {
      "cell_type": "code",
      "source": [
        "cur.execute(\"SELECT * FROM climate\")\n",
        "myresult = cur.fetchall()\n",
        "print(myresult)"
      ],
      "metadata": {
        "colab": {
          "base_uri": "https://localhost:8080/"
        },
        "id": "UBUDuco2iQdr",
        "outputId": "2d68886c-498e-4c38-a2a6-8c9039bb9dc1"
      },
      "execution_count": null,
      "outputs": [
        {
          "output_type": "stream",
          "name": "stdout",
          "text": [
            "[(5, 'Continental', None), (7, 'Continental', None), (26, 'Moderate', None)]\n"
          ]
        }
      ]
    },
    {
      "cell_type": "markdown",
      "source": [
        "### Filter data\n",
        "```sql\n",
        "sql= \"SELECT * FROM table_name WHERE column_name = ?\"\n",
        "val= (\"value1\",)\n",
        "cur.execute(sql,val)\n",
        "myresult = cur.fetchall()\n",
        "print(myresult)\n",
        "```"
      ],
      "metadata": {
        "id": "j1872WMHi3Xw"
      }
    },
    {
      "cell_type": "code",
      "source": [
        "sql= \"SELECT * FROM climate WHERE climate_type = ?\"\n",
        "val= (\"Continental\",)\n",
        "cur.execute(sql,val)\n",
        "myresult = cur.fetchall()\n",
        "print(myresult)"
      ],
      "metadata": {
        "colab": {
          "base_uri": "https://localhost:8080/"
        },
        "id": "kL_xI8wTjAzC",
        "outputId": "1cf76769-d20e-4acc-b805-c7073b0bb77c"
      },
      "execution_count": null,
      "outputs": [
        {
          "output_type": "stream",
          "name": "stdout",
          "text": [
            "[(5, 'Continental', None), (7, 'Continental', None)]\n"
          ]
        }
      ]
    },
    {
      "cell_type": "markdown",
      "source": [
        "### Drop Table\n",
        "We can issue the `DROP TABLE tablename` statement to drop a table from the database."
      ],
      "metadata": {
        "id": "pdKNit75ivJM"
      }
    },
    {
      "cell_type": "code",
      "source": [
        "cur.execute(\"DROP TABLE climate\")"
      ],
      "metadata": {
        "colab": {
          "base_uri": "https://localhost:8080/"
        },
        "id": "N5kLJHDhikB-",
        "outputId": "4aa38ec7-c845-4115-a807-d4c68a51c755"
      },
      "execution_count": null,
      "outputs": [
        {
          "output_type": "execute_result",
          "data": {
            "text/plain": [
              "<sqlite3.Cursor at 0x7f176a6e3490>"
            ]
          },
          "metadata": {},
          "execution_count": 30
        }
      ]
    },
    {
      "cell_type": "markdown",
      "source": [
        "# R Exercises"
      ],
      "metadata": {
        "id": "PrM6f9-To_Rb"
      }
    },
    {
      "cell_type": "markdown",
      "source": [
        "## Exercise 1\n",
        "Using R to work on the database “weather.db”. Based on the tables\n",
        "“timezones” and “zones”, please find out the distinct names of all time\n",
        "zones which have within +-2 hours difference from London (GMT).\n",
        "- Task 1: Extract the two tables from database as data frames in R.\n",
        "Then, based on these two data frames, finding the required time\n",
        "zones using “joins” from R package “dplyr”.\n",
        "- Task 2: Using function “dbFetch” in R to manipulate the data in\n",
        "MySQL, and return the resulting table as data frame in R.\n",
        "- Remark 1: that column “gmt_offset” in table “timezone” gives the information for time zones. In “gmt_offset”, 0 means the London (GMT), 3600 is “3600 seconds” (1 hour), and 7200 is $2 \\times 3600$ seconds” (2 hours).\n",
        "- Remark 2: You can use R package “dplyr” to get the function called “inner_join()”\n",
        "###Hint\n",
        "- Task 1:\n",
        "  + Import the liberaries \"dplyr\" \"DBI\" and \"RSQLite\".\n",
        "  + Use function “dbFetch()” to extract the tables from the database as data frames in R.\n",
        "  + Using function “which()” to search the indices of those records that satisfy\n",
        "`gmt_offset>=-2*3600` and `gmt_offset<=2*3600`.\n",
        "  + Find out the records with the above indices from data frame timezone, and saved as a new data frame. By making an “inner_join()” with zones using key “zone_id” the records with a match for the zone names are obtained.\n",
        "Using function “distinct()” on the column zone_name, the results will obtained.\n",
        "- Task 2:\n",
        "  + Using “dbFetch” and “dbSendQuery” to send a query to SQL and get back the results.\n",
        "  + In SQLite, you can use sub=query to make the search.\n",
        "  + Get those records from “timezone” all the columns kept (SELECT * FROM\n",
        "weather_db.timezone)\n",
        "  + Filter those gmt_offset satisfy the requirement (WHERE )\n",
        "  + Match the zone_id with names (INNER JOIN )\n",
        "  + Based on the table formed by all the above records, pick out the distinct zone names. (SELECT DISTINCT zone_name)"
      ],
      "metadata": {
        "id": "ze018k6GnSzR"
      }
    },
    {
      "cell_type": "markdown",
      "source": [
        "###  TASK 1"
      ],
      "metadata": {
        "id": "llYJzbdDmpnK"
      }
    },
    {
      "cell_type": "code",
      "source": [
        "%%R\n",
        "library(DBI)\n",
        "library(dplyr)\n",
        "library(RSQLite)\n",
        "#Connect to DB\n",
        "mydb <- dbConnect(RSQLite::SQLite(), \"weather.db\")\n",
        "#Extract tables for the Data Base\n",
        "timezones = dbFetch(dbSendQuery(mydb, 'SELECT * FROM timezone'),n=-1)\n",
        "zones = dbFetch(dbSendQuery(mydb, 'SELECT * FROM zones'),n=-1)\n",
        "head(zones)"
      ],
      "metadata": {
        "id": "ngsAefZ1_cIw",
        "colab": {
          "base_uri": "https://localhost:8080/"
        },
        "outputId": "12bb3633-77bd-400c-e08c-2d30635d0807"
      },
      "execution_count": null,
      "outputs": [
        {
          "output_type": "stream",
          "name": "stderr",
          "text": [
            "WARNING:rpy2.rinterface_lib.callbacks:R[write to console]: \n",
            "Attaching package: ‘dplyr’\n",
            "\n",
            "\n",
            "WARNING:rpy2.rinterface_lib.callbacks:R[write to console]: The following objects are masked from ‘package:stats’:\n",
            "\n",
            "    filter, lag\n",
            "\n",
            "\n",
            "WARNING:rpy2.rinterface_lib.callbacks:R[write to console]: The following objects are masked from ‘package:base’:\n",
            "\n",
            "    intersect, setdiff, setequal, union\n",
            "\n",
            "\n"
          ]
        },
        {
          "output_type": "stream",
          "name": "stdout",
          "text": [
            "  zone_id country_code        zone_name\n",
            "1       1           AD   Europe/Andorra\n",
            "2       2           AE       Asia/Dubai\n",
            "3       3           AF       Asia/Kabul\n",
            "4       4           AG  America/Antigua\n",
            "5       5           AI America/Anguilla\n",
            "6       6           AL    Europe/Tirane\n"
          ]
        }
      ]
    },
    {
      "cell_type": "code",
      "source": [
        "%%R\n",
        "#Filter timezones that are +-2 hours apart from London time\n",
        "index.1<-which(((timezones$gmt_offset>=-2*3600)&(timezones$gmt_offset <= 2* 3600))==1)\n",
        "timezones_near_london <-timezones[index.1, ]\n",
        "tail(timezones_near_london) # tail prints last 5 observations"
      ],
      "metadata": {
        "colab": {
          "base_uri": "https://localhost:8080/"
        },
        "id": "pry_lAzglbUX",
        "outputId": "43838b74-414d-42c5-a421-94bca9ef1f22"
      },
      "execution_count": null,
      "outputs": [
        {
          "output_type": "stream",
          "name": "stdout",
          "text": [
            "     zone_id abbreviation time_start gmt_offset dst\n",
            "9989     142          EET  591667200       7200   0\n",
            "9991     142          EET  623203200       7200   0\n",
            "9993     142          EET  654739200       7200   0\n",
            "9995     142          EET  686275200       7200   0\n",
            "9997     142          EET  717897600       7200   0\n",
            "9999     142          EET  749433600       7200   0\n"
          ]
        }
      ]
    },
    {
      "cell_type": "code",
      "source": [
        "%%R\n",
        "# Change the row names (to avoid jumps, e.g. from row 338 to 512)\n",
        "row.names(timezones_near_london)<-as.character(1:nrow(timezones_near_london))"
      ],
      "metadata": {
        "id": "XHMLnaihlmM9"
      },
      "execution_count": null,
      "outputs": []
    },
    {
      "cell_type": "code",
      "source": [
        "%%R\n",
        "#Join with zones data frame to get the names of the zones\n",
        "zones_near_london_full <- inner_join(timezones_near_london, zones,by = \"zone_id\")\n",
        "\n",
        "#Select distinct names of those zones\n",
        "zones_near_london <- distinct(zones_near_london_full, zone_name)\n",
        "zones_near_london"
      ],
      "metadata": {
        "colab": {
          "base_uri": "https://localhost:8080/"
        },
        "id": "IMbYeIzymE_8",
        "outputId": "dccc6875-3195-4e40-ac5b-986da6628f59"
      },
      "execution_count": null,
      "outputs": [
        {
          "output_type": "stream",
          "name": "stdout",
          "text": [
            "                        zone_name\n",
            "1                  Europe/Andorra\n",
            "2                   Europe/Tirane\n",
            "3                   Africa/Luanda\n",
            "4               Antarctica/Palmer\n",
            "5                Antarctica/Troll\n",
            "6  America/Argentina/Buenos_Aires\n",
            "7       America/Argentina/Cordoba\n",
            "8         America/Argentina/Salta\n",
            "9         America/Argentina/Jujuy\n",
            "10      America/Argentina/Tucuman\n",
            "11    America/Argentina/Catamarca\n",
            "12     America/Argentina/La_Rioja\n",
            "13     America/Argentina/San_Juan\n",
            "14      America/Argentina/Mendoza\n",
            "15     America/Argentina/San_Luis\n",
            "16 America/Argentina/Rio_Gallegos\n",
            "17      America/Argentina/Ushuaia\n",
            "18                  Europe/Vienna\n",
            "19               Europe/Mariehamn\n",
            "20                Europe/Sarajevo\n",
            "21                Europe/Brussels\n",
            "22             Africa/Ouagadougou\n",
            "23                   Europe/Sofia\n",
            "24               Africa/Bujumbura\n",
            "25              Africa/Porto-Novo\n",
            "26                America/Noronha\n",
            "27                  America/Belem\n",
            "28              America/Fortaleza\n",
            "29                 America/Recife\n",
            "30              America/Araguaina\n",
            "31                 America/Maceio\n",
            "32                  America/Bahia\n",
            "33              America/Sao_Paulo\n",
            "34                Africa/Gaborone\n",
            "35                   Europe/Minsk\n",
            "36               America/St_Johns\n",
            "37              America/Goose_Bay\n",
            "38            America/Pangnirtung\n",
            "39                Africa/Kinshasa\n",
            "40              Africa/Lubumbashi\n",
            "41                  Africa/Bangui\n",
            "42             Africa/Brazzaville\n",
            "43                  Europe/Zurich\n",
            "44                 Africa/Abidjan\n",
            "45                  Africa/Douala\n",
            "46            Atlantic/Cape_Verde\n",
            "47                   Asia/Nicosia\n",
            "48                  Europe/Prague\n",
            "49                  Europe/Berlin\n",
            "50                Europe/Busingen\n",
            "51              Europe/Copenhagen\n",
            "52                 Africa/Algiers\n",
            "53                 Europe/Tallinn\n",
            "54                   Africa/Cairo\n"
          ]
        }
      ]
    },
    {
      "cell_type": "markdown",
      "source": [
        "### TASK 2"
      ],
      "metadata": {
        "id": "b9bIXlMHmtZ5"
      }
    },
    {
      "cell_type": "code",
      "source": [
        "%%R\n",
        "sql_zones_near_london = dbFetch(dbSendQuery(mydb,\n",
        "'SELECT DISTINCT zone_name\n",
        "FROM\n",
        "    (SELECT\n",
        "        *\n",
        "    FROM\n",
        "        timezone\n",
        "    WHERE\n",
        "        gmt_offset >= - 2*3600\n",
        "            AND gmt_offset <= 2*3600) l_time\n",
        "        INNER JOIN\n",
        "    zones zon ON zon.zone_id = l_time.zone_id'),n=-1)\n",
        "print(sql_zones_near_london)\n",
        "#checks if sql and R solutions are identical\n",
        "all(sql_zones_near_london == zones_near_london)"
      ],
      "metadata": {
        "colab": {
          "base_uri": "https://localhost:8080/"
        },
        "id": "eMu3ncfCmxQx",
        "outputId": "c3dd1905-22e2-48c6-8cdb-41f6b228fb64"
      },
      "execution_count": null,
      "outputs": [
        {
          "output_type": "stream",
          "name": "stdout",
          "text": [
            "                        zone_name\n",
            "1                  Europe/Andorra\n",
            "2                   Europe/Tirane\n",
            "3                   Africa/Luanda\n",
            "4               Antarctica/Palmer\n",
            "5                Antarctica/Troll\n",
            "6  America/Argentina/Buenos_Aires\n",
            "7       America/Argentina/Cordoba\n",
            "8         America/Argentina/Salta\n",
            "9         America/Argentina/Jujuy\n",
            "10      America/Argentina/Tucuman\n",
            "11    America/Argentina/Catamarca\n",
            "12     America/Argentina/La_Rioja\n",
            "13     America/Argentina/San_Juan\n",
            "14      America/Argentina/Mendoza\n",
            "15     America/Argentina/San_Luis\n",
            "16 America/Argentina/Rio_Gallegos\n",
            "17      America/Argentina/Ushuaia\n",
            "18                  Europe/Vienna\n",
            "19               Europe/Mariehamn\n",
            "20                Europe/Sarajevo\n",
            "21                Europe/Brussels\n",
            "22             Africa/Ouagadougou\n",
            "23                   Europe/Sofia\n",
            "24               Africa/Bujumbura\n",
            "25              Africa/Porto-Novo\n",
            "26                America/Noronha\n",
            "27                  America/Belem\n",
            "28              America/Fortaleza\n",
            "29                 America/Recife\n",
            "30              America/Araguaina\n",
            "31                 America/Maceio\n",
            "32                  America/Bahia\n",
            "33              America/Sao_Paulo\n",
            "34                Africa/Gaborone\n",
            "35                   Europe/Minsk\n",
            "36               America/St_Johns\n",
            "37              America/Goose_Bay\n",
            "38            America/Pangnirtung\n",
            "39                Africa/Kinshasa\n",
            "40              Africa/Lubumbashi\n",
            "41                  Africa/Bangui\n",
            "42             Africa/Brazzaville\n",
            "43                  Europe/Zurich\n",
            "44                 Africa/Abidjan\n",
            "45                  Africa/Douala\n",
            "46            Atlantic/Cape_Verde\n",
            "47                   Asia/Nicosia\n",
            "48                  Europe/Prague\n",
            "49                  Europe/Berlin\n",
            "50                Europe/Busingen\n",
            "51              Europe/Copenhagen\n",
            "52                 Africa/Algiers\n",
            "53                 Europe/Tallinn\n",
            "54                   Africa/Cairo\n",
            "[1] TRUE\n"
          ]
        }
      ]
    },
    {
      "cell_type": "markdown",
      "source": [
        "## Exercise 2\n",
        "Write your results, one data frame obtained in question 1 from either\n",
        "task 1 or 2, as a table in weather.db"
      ],
      "metadata": {
        "id": "wb8CqIcjJ9h5"
      }
    },
    {
      "cell_type": "code",
      "source": [
        "%%R\n",
        "#Write the new table in weather_db\n",
        "dbWriteTable(mydb, \"sql_zones_near_london\", sql_zones_near_london)"
      ],
      "metadata": {
        "id": "cJF67UgOKLlX"
      },
      "execution_count": null,
      "outputs": []
    },
    {
      "cell_type": "markdown",
      "source": [
        "## Exercise 3\n",
        "Based on question 2, list all the tables and check whether your newly\n",
        "created table exists in the weather_db (Hint: using `dbListTables` and `dbExistsTable`)."
      ],
      "metadata": {
        "id": "UnSypL9vK9Nc"
      }
    },
    {
      "cell_type": "code",
      "source": [
        "%%R\n",
        "#List tables\n",
        "print(dbListTables(mydb))\n",
        "#Check if a table exists\n",
        "dbExistsTable(mydb, \"sql_zones_near_london\")"
      ],
      "metadata": {
        "id": "8ALaFHy2MaX4",
        "colab": {
          "base_uri": "https://localhost:8080/"
        },
        "outputId": "b7706a7a-b7a1-4002-d729-88ccb66ec9f2"
      },
      "execution_count": null,
      "outputs": [
        {
          "output_type": "stream",
          "name": "stdout",
          "text": [
            " [1] \"cat_locations\"              \"cat_postcode_latlong\"      \n",
            " [3] \"cat_regions\"                \"country\"                   \n",
            " [5] \"metoffice_dailyweatherdata\" \"metoffice_forecast_text\"   \n",
            " [7] \"postcodelatlng\"             \"sql_zones_near_london\"     \n",
            " [9] \"sqlite_sequence\"            \"tempW\"                     \n",
            "[11] \"timezone\"                   \"weatherType\"               \n",
            "[13] \"zones\"                     \n",
            "[1] TRUE\n"
          ]
        }
      ]
    },
    {
      "cell_type": "markdown",
      "source": [
        "## Exercice 4\n",
        "Remove the new table from weather_db (Hint use `dbRemoveTable`)\n"
      ],
      "metadata": {
        "id": "gn0SXqJANHBv"
      }
    },
    {
      "cell_type": "code",
      "source": [
        "%%R\n",
        "#Drop table\n",
        "dbRemoveTable(mydb, \"sql_zones_near_london\")"
      ],
      "metadata": {
        "id": "YVmCqa08NO8V"
      },
      "execution_count": null,
      "outputs": []
    },
    {
      "cell_type": "markdown",
      "source": [
        "# Python Exercises"
      ],
      "metadata": {
        "id": "UpC3nSzroUAA"
      }
    },
    {
      "cell_type": "markdown",
      "source": [
        "## Exercise 1\n",
        "Using Python to work on the “weather_db”. Working on tables `metoffice_dailyweatherdata` and `cat_location`, and find out the\n",
        "location with the third highest average temperature.\n",
        "- Use python function `cur.execute` and `cur.fetchall` to run/fetch SQL commands\n",
        "and return the results to Python.\n",
        "### HINT\n",
        "- Tables: “metoffice_dailyweatherdata”, and “cat_location”.\n",
        "- Information: “Location” in “cat_location” and average temperature for\n",
        "each location.\n",
        "- Filter: no\n",
        "- Groups: Yes, based on location\n",
        "- Orders: Yes, descending order and get the third record.\n",
        "- Joins: yes, need “Location” from cat_location.\n",
        "- `OFFSET 2` skips the first 2 records"
      ],
      "metadata": {
        "id": "qU4l5-G-pphi"
      }
    },
    {
      "cell_type": "code",
      "source": [
        "import sqlite3\n",
        "con = sqlite3.connect(\"weather.db\")\n",
        "mycursor = con.cursor()\n",
        "mycursor.execute(\"\"\"\n",
        "SELECT cat.Location, AVG(daily.temperature) as average_temperature\n",
        "FROM  metoffice_dailyweatherdata AS daily\n",
        "INNER JOIN  cat_locations AS cat ON cat.LocationID = daily.LocationId\n",
        "GROUP BY cat.Location\n",
        "ORDER BY average_temperature DESC\n",
        "LIMIT 1\n",
        "OFFSET 2\n",
        "\"\"\")\n",
        "myresult = mycursor.fetchall()\n",
        "print(myresult)"
      ],
      "metadata": {
        "colab": {
          "base_uri": "https://localhost:8080/"
        },
        "id": "UCseNXmBqEyA",
        "outputId": "2bc5afe8-5fdc-4e02-e26f-341673e5e58d"
      },
      "execution_count": null,
      "outputs": [
        {
          "output_type": "stream",
          "name": "stdout",
          "text": [
            "[('Culdrose', 9.495000000000003)]\n"
          ]
        }
      ]
    },
    {
      "cell_type": "markdown",
      "source": [
        "## Exercise 2\n",
        "Create a table “average_values” in “weather_db” with columns\n",
        "“LocationID” (INT), “average_temperature” (REAL)"
      ],
      "metadata": {
        "id": "HEwXlYWhrsYn"
      }
    },
    {
      "cell_type": "code",
      "source": [
        "mycursor.execute(\"CREATE TABLE average_values (LocationID INT, average_temperature REAL)\")"
      ],
      "metadata": {
        "colab": {
          "base_uri": "https://localhost:8080/"
        },
        "id": "wfG2gTTUruPG",
        "outputId": "d66bb171-2292-4bad-e867-bbc8fabe9b8f"
      },
      "execution_count": null,
      "outputs": [
        {
          "output_type": "execute_result",
          "data": {
            "text/plain": [
              "<sqlite3.Cursor at 0x7fe6a8581f80>"
            ]
          },
          "metadata": {},
          "execution_count": 3
        }
      ]
    },
    {
      "cell_type": "markdown",
      "source": [
        "## Exercise 3\n",
        "Add column “average_windspeed” (REAL) to the table “average_values” created in question 2"
      ],
      "metadata": {
        "id": "yAP8JLNwr1iZ"
      }
    },
    {
      "cell_type": "code",
      "source": [
        "mycursor.execute(\"ALTER TABLE average_values ADD COLUMN average_windspeed REAL\")"
      ],
      "metadata": {
        "colab": {
          "base_uri": "https://localhost:8080/"
        },
        "id": "ugj-5hKhr5aW",
        "outputId": "8b473431-cc46-47ea-9046-c2fe5f9b7330"
      },
      "execution_count": null,
      "outputs": [
        {
          "output_type": "execute_result",
          "data": {
            "text/plain": [
              "<sqlite3.Cursor at 0x7fe6a8581f80>"
            ]
          },
          "metadata": {},
          "execution_count": 4
        }
      ]
    },
    {
      "cell_type": "markdown",
      "source": [
        "## Exercise 4\n",
        "Working on table `metoffice_dailyweatherdata` and compute, the\n",
        "average temperature and windspeed per `LocationID`, and fetch the\n",
        "results to Python.\n",
        "### Hint:\n",
        "using mycursor.execute()\n",
        "- Information: location ID, average temperature, average windspeed\n",
        "- Table: metoffice_dailyweatherdata\n",
        "- Groups: Yes, LocationID\n",
        "- Joins: no\n",
        "- Orders: no"
      ],
      "metadata": {
        "id": "AJqKZ4vnsAPD"
      }
    },
    {
      "cell_type": "code",
      "source": [
        "mycursor.execute(\"\"\"\n",
        "SELECT  LocationID,\n",
        "        AVG(temperature) as average_temperature,\n",
        "        AVG(windspeed) as average_windspeed\n",
        "FROM metoffice_dailyweatherdata\n",
        "GROUP BY LocationID;\n",
        "\"\"\")\n",
        "myresult = mycursor.fetchall()\n",
        "print(myresult)"
      ],
      "metadata": {
        "colab": {
          "base_uri": "https://localhost:8080/"
        },
        "id": "GpqQlhCcsIuF",
        "outputId": "3b5d1835-2192-4003-ff33-305d1ef38253"
      },
      "execution_count": null,
      "outputs": [
        {
          "output_type": "stream",
          "name": "stdout",
          "text": [
            "[(3002, 6.254430379746833, 28.70886075949367), (3005, 5.923076923076924, 32.294871794871796), (3008, 6.644871794871796, 26.884615384615383), (3017, 6.110126582278483, 20.620253164556964), (3023, 8.271794871794873, 28.897435897435898), (3026, 7.334177215189878, 24.696202531645568), (3031, 5.997468354430379, 22.40506329113924), (3034, 7.969620253164556, 23.40506329113924), (3039, 1.4884615384615392, 39.96153846153846), (3044, 6.916666666666667, 16.858974358974358), (3047, 5.643589743589743, 12.08974358974359), (3063, 5.300000000000002, 8.794871794871796), (3065, 1.3423076923076918, 58.014084507042256), (3066, 7.002531645569618, 16.759493670886076), (3068, 6.388461538461537, 16.28205128205128), (3072, 0.17948717948717952, 35.93589743589744), (3075, 6.001282051282051, 19.641025641025642), (3080, 6.161538461538463, 11.564102564102564), (3088, 5.1499999999999995, 22.076923076923077), (3091, 5.874683544303795, 13.79746835443038), (3100, 7.978481012658224, 23.40506329113924), (3105, 7.8518987341772135, 18.379746835443036), (3111, 8.078481012658225, 18.810126582278482), (3132, 7.97179487179487, 15.85897435897436), (3134, 6.587341772151896, 11.79746835443038), (3136, 7.808860759493671, 15.025316455696203), (3144, 6.735897435897432, 11.217948717948717), (3148, 3.112820512820513, 23.96153846153846), (3153, 6.6645569620253164, 17.60759493670886), (3155, 5.734615384615383, 19.653846153846153), (3158, 6.402564102564104, 17.243589743589745), (3162, 4.957692307692308, 12.14102564102564), (3166, 7.225641025641023, 14.025641025641026), (3171, 6.58354430379747, 15.987341772151899), (3204, 8.591025641025643, 18.32051282051282), (3210, 6.52948717948718, 20.012820512820515), (3212, 7.130379746835439, 8.50632911392405), (3214, 6.814102564102564, 12.0), (3220, 6.408974358974358, None), (3224, 4.256962025316456, 17.40506329113924), (3225, 5.379487179487177, 14.705128205128204), (3226, 5.333333333333334, 9.35897435897436), (3227, 0.8217948717948721, 34.6025641025641), (3230, 5.041772151898735, 8.455696202531646), (3238, 4.1544303797468345, 7.3544303797468356), (3240, 5.467088607594934, 12.468354430379748), (3257, 6.192307692307693, 11.58974358974359), (3265, 6.211392405063292, 10.987341772151899), (3266, 6.432911392405062, 9.468354430379748), (3275, 5.61012658227848, 17.481012658227847), (3281, 4.47948717948718, 19.08974358974359), (3292, 6.43974358974359, 10.784313725490197), (3302, 8.165384615384616, 18.82051282051282), (3305, 6.106329113924051, 20.68354430379747), (3313, 7.406329113924048, 10.658227848101266), (3316, 7.321518987341775, 14.164556962025317), (3321, 7.157692307692307, 8.615384615384615), (3330, 4.903797468354431, 10.645569620253164), (3344, 5.370886075949368, 11.113924050632912), (3351, 6.905063291139241, 9.037974683544304), (3354, 6.691139240506329, 9.367088607594937), (3373, 6.486075949367091, 12.405063291139241), (3377, 6.708974358974357, 13.025641025641026), (3379, 6.543589743589746, 14.217948717948717), (3382, 6.50886075949367, 11.0), (3385, 6.617721518987342, 14.341772151898734), (3391, 6.611538461538459, 10.974358974358974), (3392, 6.441772151898736, 14.49367088607595), (3405, 7.860759493670882, 21.949367088607595), (3410, 5.466666666666667, 11.871794871794872), (3414, 6.847435897435902, 9.320512820512821), (3462, 6.6177215189873415, 12.063291139240507), (3469, 6.548101265822784, 13.987341772151899), (3482, 6.25897435897436, 11.666666666666666), (3488, 6.447435897435897, 14.884615384615385), (3502, 7.473417721518987, 17.164556962025316), (3503, 7.70769230769231, 6.756410256410256), (3507, 5.573076923076925, 9.628205128205128), (3520, 6.216666666666668, 5.589743589743589), (3522, 6.655696202531649, 3.8607594936708862), (3529, 7.4192307692307695, 8.346153846153847), (3535, 7.0898734177215195, 9.08860759493671), (3544, 6.6923076923076925, 6.4743589743589745), (3560, 6.637179487179487, 10.461538461538462), (3590, 5.717948717948719, 10.435897435897436), (3604, 8.430379746835445, 13.08860759493671), (3605, 7.878378378378382, 14.77027027027027), (3609, 8.228571428571428, 16.271428571428572), (3647, 5.956250000000002, 11.75), (3649, 7.773333333333334, 6.95), (3658, 7.7533333333333365, 9.783333333333333), (3660, 6.368333333333334, 6.8), (3672, 7.458333333333333, 7.65), (3680, 6.576666666666668, None), (3684, 6.500000000000001, 9.083333333333334), (3693, 7.133333333333335, 9.733333333333333), (3707, 8.693333333333332, 10.45), (3710, 6.34, 10.25), (3716, 7.960000000000002, 7.916666666666667), (3740, 7.353333333333331, 8.366666666666667), (3743, 7.575000000000001, 7.233333333333333), (3746, 7.670000000000002, 10.916666666666666), (3749, 7.955, 9.016666666666667), (3761, 7.345, 10.666666666666666), (3768, 7.416666666666666, 8.466666666666667), (3769, 6.905000000000003, 5.683333333333334), (3772, 7.65, 8.9), (3781, 6.3966666666666665, 8.616666666666667), (3796, 6.741666666666669, 11.766666666666667), (3797, 6.808333333333336, 10.9), (3803, 10.088333333333333, 17.9), (3808, 9.303333333333335, 12.033333333333333), (3809, 9.495000000000003, 15.533333333333333), (3823, 7.788333333333335, 10.783333333333333), (3827, 9.21166666666667, 12.166666666666666), (3840, 7.360000000000001, 10.711864406779661), (3844, 8.946666666666664, 7.366666666666666), (3853, 8.851666666666667, 8.933333333333334), (3857, 9.400000000000004, 16.116666666666667), (3862, 8.986666666666666, 9.2), (3866, 8.855, 12.8), (3872, 8.165000000000001, 10.816666666666666), (3876, 8.196666666666667, 10.333333333333334), (3882, 7.069999999999999, 6.283333333333333), (3894, 9.24166666666667, 12.0), (3895, 8.640000000000002, 11.983333333333333), (3904, 6.841666666666666, 9.75), (3907, 7.585, 15.65), (3911, 5.374999999999998, 11.15), (3916, 6.798333333333332, 16.633333333333333), (3917, 6.914999999999997, 11.716666666666667), (3923, 6.070000000000001, 14.152542372881356), (3952, 8.811666666666667, 18.183333333333334), (3953, 9.558333333333334, 14.25), (3976, 8.831666666666667, 23.083333333333332), (3980, 7.856666666666667, 22.433333333333334), (99057, 7.246666666666667, None), (99060, 5.999999999999997, None), (99081, 7.823333333333334, 8.316666666666666), (99142, 5.861666666666665, None)]\n"
          ]
        }
      ]
    },
    {
      "cell_type": "markdown",
      "source": [
        "## Exercise 5\n",
        "Import the results from Exercise 4 into “average_values” table that\n",
        "created in question 2.\n",
        "###Hint\n",
        " Insert multiple rows into the table using `mycursor.executemany()` etc."
      ],
      "metadata": {
        "id": "oqQIT2B8saPh"
      }
    },
    {
      "cell_type": "code",
      "source": [
        "sql= \"INSERT INTO average_values (LocationID,average_temperature,average_windspeed) VALUES (?,?,?)\"\n",
        "mycursor.executemany(sql,myresult)\n",
        "con.commit()\n",
        "print(mycursor.rowcount, \"records inserted.\" )"
      ],
      "metadata": {
        "colab": {
          "base_uri": "https://localhost:8080/"
        },
        "id": "PlRLrTwrshWx",
        "outputId": "e2935a7d-4337-4608-b337-5d97ea0418be"
      },
      "execution_count": null,
      "outputs": [
        {
          "output_type": "stream",
          "name": "stdout",
          "text": [
            "140 records inserted.\n"
          ]
        }
      ]
    },
    {
      "cell_type": "markdown",
      "source": [
        "## Exercise 6\n",
        "Remove the new table `average_values` from `weather.db`.\n",
        "\n",
        "Hint: `mycursor.execute()` in python and `DROP TABLE` in SQL"
      ],
      "metadata": {
        "id": "yE1t4Ehust0e"
      }
    },
    {
      "cell_type": "code",
      "source": [
        "mycursor.execute(\"DROP TABLE average_values\")"
      ],
      "metadata": {
        "colab": {
          "base_uri": "https://localhost:8080/"
        },
        "id": "17_AhXnps2Zm",
        "outputId": "03dfc89e-9ac6-4273-90bf-393261958f90"
      },
      "execution_count": null,
      "outputs": [
        {
          "output_type": "execute_result",
          "data": {
            "text/plain": [
              "<sqlite3.Cursor at 0x7fe6a8581f80>"
            ]
          },
          "metadata": {},
          "execution_count": 10
        }
      ]
    }
  ]
}